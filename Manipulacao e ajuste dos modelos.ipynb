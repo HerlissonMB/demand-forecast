{
 "cells": [
  {
   "cell_type": "markdown",
   "metadata": {},
   "source": [
    "Este código foi escrito em razão da minha dissertação de mestrado e é parte integrante da mesma. \n",
    "\n",
    "Nele é realizada a previsão de pedidos de uma empresa de food delivery para o centro expandido da cidade de São Paulo- SP com as técnicas Spatial Autorregressive Model (SAR) e Rede Neurais Artificiais Multilayer Perceptron (MLP)."
   ]
  },
  {
   "cell_type": "markdown",
   "metadata": {},
   "source": [
    "# Modelos de regressão espacial aplicados à previsão de demanda de Online Food Delivery\n",
    "### Spatial Regression Models applied to Orders Demand Forecasting of Online Food Delivery"
   ]
  },
  {
   "cell_type": "markdown",
   "metadata": {},
   "source": [
    "## Índice\n",
    "\n",
    "0. [Importando bibliotecas necessárias](#bibliotecas)\n",
    "\n",
    "1. Leitura e manipulação dos arquivos com geodados de SP e dos pedidos\n",
    "    - [Lendo o arquivo dos polígonos dos distritos de SP](#lendo-poligonos)\n",
    "    - [Leitura da base de dados de pedidos em SP](#sec01)\n",
    "    \n",
    "2. Relendo arquivos tratados e criando dataframe para modelagem \n",
    "    - [Relendo arquivos tratados de geometrias e pedidos](#releitura)\n",
    "    - [Analise exploratória - Pedidos ](#exploratoria)\n",
    "    - [Calculando medidas de de autocorrelação espacial](#autocorr)\n",
    "    - [Criando dataframe de modelagem e variáveis necessárias](#criandodfmodelagem)\n",
    "\n",
    "3. Ajustes dos modelos e métricas de avaliação\n",
    "    - [Ajuste do modelo SAR](#ajuste-sar)\n",
    "    - [Métricas de desempenho SAR](#metricas-sar)\n",
    "    - [Ajuste do modelo RNA MLP](#ajuste-mlp)\n",
    "    - [Métricas de desempenho MLP](#metricas-mlp)\n",
    "\n",
    "\n",
    "4. [Previsão para o dia 15-10-2019](#prev-15-10-2019)"
   ]
  },
  {
   "cell_type": "markdown",
   "metadata": {},
   "source": [
    "---"
   ]
  },
  {
   "cell_type": "markdown",
   "metadata": {},
   "source": [
    "### Importando bibliotecas necessárias <a name=\"bibliotecas\"></a>"
   ]
  },
  {
   "cell_type": "code",
   "execution_count": 308,
   "metadata": {},
   "outputs": [],
   "source": [
    "from seaborn import palplot, countplot, barplot, boxplot, lineplot, kdeplot\n",
    "import geopandas as gpd\n",
    "import matplotlib.pyplot as plt\n",
    "import pandas as pd\n",
    "import shapely as shp\n",
    "import adjustText as aT\n",
    "import numpy as np\n",
    "import seaborn as sns\n",
    "from scipy.stats import shapiro\n",
    "from scipy.stats import pearsonr\n",
    "\n",
    "import warnings\n",
    "warnings.filterwarnings(\"ignore\")\n",
    "\n",
    "from pysal.lib import weights\n",
    "from pysal.explore import esda\n",
    "\n",
    "from splot.esda import plot_moran\n",
    "\n",
    "from pysal.model import spreg\n",
    "\n",
    "from sklearn.neural_network import MLPRegressor\n",
    "from sklearn.preprocessing import StandardScaler\n",
    "from sklearn.metrics import mean_squared_error, r2_score\n",
    "from sklearn.model_selection import ParameterGrid\n",
    "\n",
    "from matplotlib.pyplot import figure\n",
    "from matplotlib import pyplot as plt\n",
    "plt.style.use('ggplot')"
   ]
  },
  {
   "cell_type": "code",
   "execution_count": 4,
   "metadata": {},
   "outputs": [],
   "source": []
  },
  {
   "cell_type": "code",
   "execution_count": 602,
   "metadata": {},
   "outputs": [],
   "source": [
    "from sklearn import __version__ as versao_sklearn"
   ]
  },
  {
   "cell_type": "markdown",
   "metadata": {},
   "source": [
    "---"
   ]
  },
  {
   "cell_type": "markdown",
   "metadata": {},
   "source": [
    "### Lendo o arquivo dos polígonos dos distritos de SP <a name=\"lendo-poligonos\"></a>"
   ]
  },
  {
   "cell_type": "code",
   "execution_count": 4,
   "metadata": {},
   "outputs": [],
   "source": [
    "distritos = gpd.read_file(\"Distritos SP/DEINFO_DISTRITO.shp\", crs={'init':'epsg:4291'})"
   ]
  },
  {
   "cell_type": "code",
   "execution_count": 5,
   "metadata": {},
   "outputs": [
    {
     "data": {
      "text/plain": [
       "{'proj': 'utm',\n",
       " 'zone': 23,\n",
       " 'south': True,\n",
       " 'ellps': 'aust_SA',\n",
       " 'units': 'm',\n",
       " 'no_defs': True}"
      ]
     },
     "execution_count": 5,
     "metadata": {},
     "output_type": "execute_result"
    }
   ],
   "source": [
    "distritos.crs"
   ]
  },
  {
   "cell_type": "code",
   "execution_count": 6,
   "metadata": {},
   "outputs": [
    {
     "name": "stderr",
     "output_type": "stream",
     "text": [
      "C:\\Users\\Herlisson\\Anaconda3\\lib\\site-packages\\pyproj\\crs\\crs.py:53: FutureWarning: '+init=<authority>:<code>' syntax is deprecated. '<authority>:<code>' is the preferred initialization method. When making the change, be mindful of axis order changes: https://pyproj4.github.io/pyproj/stable/gotchas.html#axis-order-changes-in-proj-6\n",
      "  return _prepare_from_string(\" \".join(pjargs))\n"
     ]
    }
   ],
   "source": [
    "distritos=distritos.to_crs(epsg=4326)"
   ]
  },
  {
   "cell_type": "code",
   "execution_count": 7,
   "metadata": {},
   "outputs": [
    {
     "data": {
      "text/plain": [
       "(96, 10)"
      ]
     },
     "execution_count": 7,
     "metadata": {},
     "output_type": "execute_result"
    }
   ],
   "source": [
    "distritos.shape"
   ]
  },
  {
   "cell_type": "code",
   "execution_count": 8,
   "metadata": {},
   "outputs": [
    {
     "data": {
      "text/html": [
       "<div>\n",
       "<style scoped>\n",
       "    .dataframe tbody tr th:only-of-type {\n",
       "        vertical-align: middle;\n",
       "    }\n",
       "\n",
       "    .dataframe tbody tr th {\n",
       "        vertical-align: top;\n",
       "    }\n",
       "\n",
       "    .dataframe thead th {\n",
       "        text-align: right;\n",
       "    }\n",
       "</style>\n",
       "<table border=\"1\" class=\"dataframe\">\n",
       "  <thead>\n",
       "    <tr style=\"text-align: right;\">\n",
       "      <th></th>\n",
       "      <th>CLASSID</th>\n",
       "      <th>FEATID</th>\n",
       "      <th>REVISIONNU</th>\n",
       "      <th>NOME_DIST</th>\n",
       "      <th>SIGLA_DIST</th>\n",
       "      <th>COD_DIST</th>\n",
       "      <th>COD_SUB</th>\n",
       "      <th>DATA_CRIAC</th>\n",
       "      <th>USUARIO_ID</th>\n",
       "      <th>geometry</th>\n",
       "    </tr>\n",
       "  </thead>\n",
       "  <tbody>\n",
       "    <tr>\n",
       "      <th>0</th>\n",
       "      <td>4.0</td>\n",
       "      <td>8583485.0</td>\n",
       "      <td>1.0</td>\n",
       "      <td>JOSE BONIFACIO</td>\n",
       "      <td>JBO</td>\n",
       "      <td>47</td>\n",
       "      <td>27</td>\n",
       "      <td>2007-03-19</td>\n",
       "      <td>0.0</td>\n",
       "      <td>POLYGON ((-46.44578 -23.55602, -46.44564 -23.5...</td>\n",
       "    </tr>\n",
       "    <tr>\n",
       "      <th>1</th>\n",
       "      <td>4.0</td>\n",
       "      <td>8583484.0</td>\n",
       "      <td>1.0</td>\n",
       "      <td>JD SAO LUIS</td>\n",
       "      <td>JDS</td>\n",
       "      <td>46</td>\n",
       "      <td>18</td>\n",
       "      <td>2007-03-19</td>\n",
       "      <td>0.0</td>\n",
       "      <td>POLYGON ((-46.75793 -23.64810, -46.75790 -23.6...</td>\n",
       "    </tr>\n",
       "    <tr>\n",
       "      <th>2</th>\n",
       "      <td>4.0</td>\n",
       "      <td>8583445.0</td>\n",
       "      <td>1.0</td>\n",
       "      <td>ARTUR ALVIM</td>\n",
       "      <td>AAL</td>\n",
       "      <td>5</td>\n",
       "      <td>21</td>\n",
       "      <td>2007-03-19</td>\n",
       "      <td>0.0</td>\n",
       "      <td>POLYGON ((-46.47456 -23.52332, -46.47456 -23.5...</td>\n",
       "    </tr>\n",
       "    <tr>\n",
       "      <th>3</th>\n",
       "      <td>4.0</td>\n",
       "      <td>8583479.0</td>\n",
       "      <td>1.0</td>\n",
       "      <td>JAGUARA</td>\n",
       "      <td>JAG</td>\n",
       "      <td>40</td>\n",
       "      <td>08</td>\n",
       "      <td>2007-03-19</td>\n",
       "      <td>0.0</td>\n",
       "      <td>POLYGON ((-46.75555 -23.49467, -46.75554 -23.4...</td>\n",
       "    </tr>\n",
       "    <tr>\n",
       "      <th>4</th>\n",
       "      <td>4.0</td>\n",
       "      <td>8583437.0</td>\n",
       "      <td>1.0</td>\n",
       "      <td>VILA PRUDENTE</td>\n",
       "      <td>VPR</td>\n",
       "      <td>93</td>\n",
       "      <td>29</td>\n",
       "      <td>2007-03-19</td>\n",
       "      <td>0.0</td>\n",
       "      <td>POLYGON ((-46.58102 -23.57250, -46.58099 -23.5...</td>\n",
       "    </tr>\n",
       "  </tbody>\n",
       "</table>\n",
       "</div>"
      ],
      "text/plain": [
       "   CLASSID     FEATID  REVISIONNU       NOME_DIST SIGLA_DIST COD_DIST COD_SUB  \\\n",
       "0      4.0  8583485.0         1.0  JOSE BONIFACIO        JBO       47      27   \n",
       "1      4.0  8583484.0         1.0     JD SAO LUIS        JDS       46      18   \n",
       "2      4.0  8583445.0         1.0     ARTUR ALVIM        AAL        5      21   \n",
       "3      4.0  8583479.0         1.0         JAGUARA        JAG       40      08   \n",
       "4      4.0  8583437.0         1.0   VILA PRUDENTE        VPR       93      29   \n",
       "\n",
       "   DATA_CRIAC  USUARIO_ID                                           geometry  \n",
       "0  2007-03-19         0.0  POLYGON ((-46.44578 -23.55602, -46.44564 -23.5...  \n",
       "1  2007-03-19         0.0  POLYGON ((-46.75793 -23.64810, -46.75790 -23.6...  \n",
       "2  2007-03-19         0.0  POLYGON ((-46.47456 -23.52332, -46.47456 -23.5...  \n",
       "3  2007-03-19         0.0  POLYGON ((-46.75555 -23.49467, -46.75554 -23.4...  \n",
       "4  2007-03-19         0.0  POLYGON ((-46.58102 -23.57250, -46.58099 -23.5...  "
      ]
     },
     "execution_count": 8,
     "metadata": {},
     "output_type": "execute_result"
    }
   ],
   "source": [
    "distritos.head()"
   ]
  },
  {
   "cell_type": "code",
   "execution_count": 364,
   "metadata": {},
   "outputs": [
    {
     "data": {
      "text/plain": [
       "<AxesSubplot:>"
      ]
     },
     "execution_count": 364,
     "metadata": {},
     "output_type": "execute_result"
    },
    {
     "data": {
      "image/png": "[encoded data removed]",
      "text/plain": [
       "<Figure size 432x288 with 1 Axes>"
      ]
     },
     "metadata": {
      "needs_background": "light"
     },
     "output_type": "display_data"
    }
   ],
   "source": [
    "distritos.plot()"
   ]
  },
  {
   "cell_type": "code",
   "execution_count": 9,
   "metadata": {},
   "outputs": [
    {
     "name": "stderr",
     "output_type": "stream",
     "text": [
      "C:\\Users\\Herlisson\\Anaconda3\\lib\\site-packages\\pyproj\\crs\\crs.py:53: FutureWarning: '+init=<authority>:<code>' syntax is deprecated. '<authority>:<code>' is the preferred initialization method. When making the change, be mindful of axis order changes: https://pyproj4.github.io/pyproj/stable/gotchas.html#axis-order-changes-in-proj-6\n",
      "  return _prepare_from_string(\" \".join(pjargs))\n"
     ]
    },
    {
     "data": {
      "text/plain": [
       "<AxesSubplot:>"
      ]
     },
     "execution_count": 9,
     "metadata": {},
     "output_type": "execute_result"
    },
    {
     "data": {
      "image/png": "[encoded data removed]",
      "text/plain": [
       "<Figure size 432x288 with 1 Axes>"
      ]
     },
     "metadata": {
      "needs_background": "light"
     },
     "output_type": "display_data"
    }
   ],
   "source": [
    "distritos.to_crs(epsg=4326).plot()"
   ]
  },
  {
   "cell_type": "code",
   "execution_count": 12,
   "metadata": {},
   "outputs": [
    {
     "data": {
      "text/plain": [
       "array(['JOSE BONIFACIO', 'JD SAO LUIS', 'ARTUR ALVIM', 'JAGUARA',\n",
       "       'VILA PRUDENTE', 'JAGUARE', 'JARAGUA', 'JD HELENA', 'JD PAULISTA',\n",
       "       'LAJEADO', 'LAPA', 'LIBERDADE', 'LIMAO', 'VILA MEDEIROS',\n",
       "       'JD ANGELA', 'PARELHEIROS', 'VILA SONIA', 'AGUA RASA',\n",
       "       'ALTO DE PINHEIROS', 'ANHANGUERA', 'ARICANDUVA', 'BARRA FUNDA',\n",
       "       'BELA VISTA', 'BELEM', 'BOM RETIRO', 'BRAS', 'BRASILANDIA',\n",
       "       'BUTANTA', 'CACHOEIRINHA', 'CAMBUCI', 'CAMPO BELO', 'CAMPO GRANDE',\n",
       "       'CAMPO LIMPO', 'CANGAIBA', 'CAPAO REDONDO', 'CARRAO', 'CASA VERDE',\n",
       "       'CID ADEMAR', 'CID DUTRA', 'CID LIDER', 'CID TIRADENTES',\n",
       "       'CONSOLACAO', 'CURSINO', 'ERMELINO MATARAZZO', 'FREGUESIA DO O',\n",
       "       'GRAJAU', 'GUAIANASES', 'IGUATEMI', 'IPIRANGA', 'ITAIM BIBI',\n",
       "       'ITAIM PAULISTA', 'ITAQUERA', 'JABAQUARA', 'JACANA', 'MANDAQUI',\n",
       "       'MARSILAC', 'MOEMA', 'MOOCA', 'MORUMBI', 'PARI', 'PARQUE DO CARMO',\n",
       "       'PEDREIRA', 'PENHA', 'PERDIZES', 'PERUS', 'PINHEIROS', 'PIRITUBA',\n",
       "       'PONTE RASA', 'RAPOSO TAVARES', 'RIO PEQUENO', 'SACOMA', 'SANTANA',\n",
       "       'SANTO AMARO', 'SAO DOMINGOS', 'SAO LUCAS', 'SAO MATEUS',\n",
       "       'SAO MIGUEL', 'SAO RAFAEL', 'SAPOPEMBA', 'SAUDE', 'SE', 'SOCORRO',\n",
       "       'TATUAPE', 'TREMEMBE', 'TUCURUVI', 'VILA ANDRADE', 'VILA CURUCA',\n",
       "       'VILA FORMOSA', 'VILA GUILHERME', 'VILA JACUI', 'VILA LEOPOLDINA',\n",
       "       'VILA MARIA', 'VILA MARIANA', 'VILA MATILDE', 'SANTA CECILIA',\n",
       "       'REPUBLICA'], dtype=object)"
      ]
     },
     "execution_count": 12,
     "metadata": {},
     "output_type": "execute_result"
    }
   ],
   "source": [
    "distritos['NOME_DIST'].unique()"
   ]
  },
  {
   "cell_type": "code",
   "execution_count": 9,
   "metadata": {},
   "outputs": [],
   "source": [
    "#Distritos que fazem parte completamente do centro expandido , mais Itaim Bibi.\n",
    "centro_expandido = [\n",
    "    'VILA LEOPOLDINA' ,\n",
    "    'LAPA' ,\n",
    "    'BARRA FUNDA' ,\n",
    "    'PERDIZES' ,\n",
    "    \n",
    "    'ALTO DE PINHEIROS' ,\n",
    "    'PINHEIROS' ,\n",
    "    'JD PAULISTA' ,\n",
    "    'ITAIM BIBI',\n",
    "    \n",
    "    'MOEMA' ,\n",
    "    'VILA MARIANA' ,\n",
    "    'SAUDE' ,\n",
    "    \n",
    "    'BOM RETIRO' ,\n",
    "    'SANTA CECILIA' ,\n",
    "    'CONSOLACAO' ,\n",
    "    'BELA VISTA' ,\n",
    "    'LIBERDADE' ,\n",
    "    'SE' ,\n",
    "    'REPUBLICA' ,\n",
    "    'CAMBUCI' ,\n",
    "    \n",
    "    'PARI' ,\n",
    "    'BRAS' ,\n",
    "    'BELEM' ,\n",
    "    'MOOCA' ,\n",
    "    \n",
    "    'IPIRANGA'\n",
    "]"
   ]
  },
  {
   "cell_type": "code",
   "execution_count": 10,
   "metadata": {},
   "outputs": [
    {
     "data": {
      "text/plain": [
       "24"
      ]
     },
     "execution_count": 10,
     "metadata": {},
     "output_type": "execute_result"
    }
   ],
   "source": [
    "len(centro_expandido)"
   ]
  },
  {
   "cell_type": "code",
   "execution_count": 12,
   "metadata": {},
   "outputs": [
    {
     "name": "stderr",
     "output_type": "stream",
     "text": [
      "C:\\Users\\Herlisson\\Anaconda3\\lib\\site-packages\\pyproj\\crs\\crs.py:53: FutureWarning: '+init=<authority>:<code>' syntax is deprecated. '<authority>:<code>' is the preferred initialization method. When making the change, be mindful of axis order changes: https://pyproj4.github.io/pyproj/stable/gotchas.html#axis-order-changes-in-proj-6\n",
      "  return _prepare_from_string(\" \".join(pjargs))\n"
     ]
    }
   ],
   "source": [
    "distritos_ce = distritos[distritos['NOME_DIST'].isin(centro_expandido)][['NOME_DIST','geometry']].to_crs(epsg=4326)"
   ]
  },
  {
   "cell_type": "code",
   "execution_count": 13,
   "metadata": {},
   "outputs": [
    {
     "data": {
      "text/plain": [
       "(24, 2)"
      ]
     },
     "execution_count": 13,
     "metadata": {},
     "output_type": "execute_result"
    }
   ],
   "source": [
    "distritos_ce.shape"
   ]
  },
  {
   "cell_type": "code",
   "execution_count": 14,
   "metadata": {},
   "outputs": [
    {
     "data": {
      "text/plain": [
       "<AxesSubplot:>"
      ]
     },
     "execution_count": 14,
     "metadata": {},
     "output_type": "execute_result"
    },
    {
     "data": {
      "image/png": "[encoded data removed]",
      "text/plain": [
       "<Figure size 432x288 with 1 Axes>"
      ]
     },
     "metadata": {
      "needs_background": "light"
     },
     "output_type": "display_data"
    }
   ],
   "source": [
    "distritos_ce.plot()"
   ]
  },
  {
   "cell_type": "code",
   "execution_count": 70,
   "metadata": {},
   "outputs": [
    {
     "data": {
      "image/png": "[encoded data removed]",
      "text/plain": [
       "<Figure size 840x840 with 1 Axes>"
      ]
     },
     "metadata": {},
     "output_type": "display_data"
    }
   ],
   "source": [
    "distritos_ce[\"rep\"] = distritos_ce[\"geometry\"].centroid\n",
    "distritos_ce2 = distritos_ce.copy()\n",
    "distritos_ce2.set_geometry(\"rep\", inplace = True)\n",
    "\n",
    "fig = figure(figsize=(12,12), dpi=70)\n",
    "ax = plt.axes()\n",
    "\n",
    "distritos_ce2.plot(figsize = (15, 12), color = \"blue\", edgecolor = \"lightgrey\", linewidth = 0.5, ax=ax)\n",
    "distritos_ce.plot(figsize = (15, 12), color = \"mistyrose\", edgecolor = \"black\", linewidth = 0.7, ax=ax)\n",
    "texts = []\n",
    "\n",
    "for x, y, label in zip(distritos_ce2.geometry.x, distritos_ce2.geometry.y, distritos_ce2[\"NOME_DIST\"]):\n",
    "    if label =='SE':\n",
    "        texts.append(plt.text(x-0.002, y, label, fontsize = 10))\n",
    "    elif label =='REPUBLICA':\n",
    "        label = 'REPU-\\nBLICA'\n",
    "        texts.append(plt.text(x-0.005, y, label, fontsize = 10))\n",
    "    elif label =='VILA LEOPOLDINA':\n",
    "        label = 'VILA \\nLEOPOLDINA'\n",
    "        texts.append(plt.text(x-0.006, y, label, fontsize = 10))\n",
    "    elif label =='ALTO DE PINHEIROS':\n",
    "        label = 'ALTO DE\\nPINHEIROS'\n",
    "        texts.append(plt.text(x-0.006, y, label, fontsize = 10))\n",
    "    elif label =='SANTA CECILIA':\n",
    "        label = 'SANTA\\nCECILIA'\n",
    "        texts.append(plt.text(x-0.006, y, label, fontsize = 10))\n",
    "    elif label =='CONSOLACAO':\n",
    "        label = 'CONSO-\\nLACAO'\n",
    "        texts.append(plt.text(x-0.004, y, label, fontsize = 10))\n",
    "    elif label =='BELA VISTA':\n",
    "        label = 'BELA VIS-\\nTA'\n",
    "        texts.append(plt.text(x-0.006, y-0.002, label, fontsize = 10))\n",
    "    elif label =='LIBERDADE':\n",
    "        label = 'LIBER-\\nDADE'\n",
    "        texts.append(plt.text(x-0.006, y, label, fontsize = 10))\n",
    "    else:\n",
    "        texts.append(plt.text(x-0.006, y, label, fontsize = 10))\n",
    "        \n",
    "ax.set_title(\"Área delimitada para estudo em São Paulo - SP\")\n",
    "ax.set_ylabel('Latitude')\n",
    "ax.set_xlabel('Longitude')\n",
    "\n",
    "plt.savefig('figura_area_estudo_sp.png' , bbox_inches='tight')\n",
    "plt.show()\n",
    "#aT.adjust_text(texts, force_points=0.3, force_text=0.8, expand_points=(1,1), expand_text=(1,1), \n",
    "               #arrowprops=dict(arrowstyle=\"-\", color='grey', lw=0.5))"
   ]
  },
  {
   "cell_type": "code",
   "execution_count": 67,
   "metadata": {},
   "outputs": [],
   "source": [
    "distritos_ce.to_csv('distritos_centro_expandido_sp.csv' , index=False)"
   ]
  },
  {
   "cell_type": "markdown",
   "metadata": {},
   "source": [
    "---"
   ]
  },
  {
   "cell_type": "markdown",
   "metadata": {},
   "source": [
    "## Leitura do arquivo de pedidos <a name=\"sec01\"></a>"
   ]
  },
  {
   "cell_type": "markdown",
   "metadata": {},
   "source": [
    "Lendo o arquivo com os pedidos realizados em toda a cidade de São Paulo - SP para agregar com qual região o pedido foi feito"
   ]
  },
  {
   "cell_type": "code",
   "execution_count": 368,
   "metadata": {},
   "outputs": [],
   "source": [
    "pedidos = pd.read_csv(\"pedidos_sp.csv\")"
   ]
  },
  {
   "cell_type": "code",
   "execution_count": 369,
   "metadata": {},
   "outputs": [
    {
     "data": {
      "text/plain": [
       "(81810, 50)"
      ]
     },
     "execution_count": 369,
     "metadata": {},
     "output_type": "execute_result"
    }
   ],
   "source": [
    "pedidos.shape"
   ]
  },
  {
   "cell_type": "code",
   "execution_count": 370,
   "metadata": {},
   "outputs": [
    {
     "data": {
      "text/html": [
       "<div>\n",
       "<style scoped>\n",
       "    .dataframe tbody tr th:only-of-type {\n",
       "        vertical-align: middle;\n",
       "    }\n",
       "\n",
       "    .dataframe tbody tr th {\n",
       "        vertical-align: top;\n",
       "    }\n",
       "\n",
       "    .dataframe thead th {\n",
       "        text-align: right;\n",
       "    }\n",
       "</style>\n",
       "<table border=\"1\" class=\"dataframe\">\n",
       "  <thead>\n",
       "    <tr style=\"text-align: right;\">\n",
       "      <th></th>\n",
       "      <th>Unnamed: 0</th>\n",
       "      <th>order_id</th>\n",
       "      <th>order_number</th>\n",
       "      <th>order_timestamp_local</th>\n",
       "      <th>order_shift</th>\n",
       "      <th>last_status_date_local</th>\n",
       "      <th>order_total</th>\n",
       "      <th>credit</th>\n",
       "      <th>paid_amount</th>\n",
       "      <th>delivery_type</th>\n",
       "      <th>...</th>\n",
       "      <th>order_date_local</th>\n",
       "      <th>valid_order</th>\n",
       "      <th>session_id</th>\n",
       "      <th>customer_id</th>\n",
       "      <th>order_month_day</th>\n",
       "      <th>order_weekday</th>\n",
       "      <th>order_month</th>\n",
       "      <th>order_date</th>\n",
       "      <th>customer_latitude</th>\n",
       "      <th>customer_longitude</th>\n",
       "    </tr>\n",
       "  </thead>\n",
       "  <tbody>\n",
       "    <tr>\n",
       "      <th>0</th>\n",
       "      <td>2</td>\n",
       "      <td>e8c55557-81d4-4159-bd2b-c144e5fbabe3</td>\n",
       "      <td>694742752</td>\n",
       "      <td>2019-06-11 20:42:32.058000+00:00</td>\n",
       "      <td>weekday dinner</td>\n",
       "      <td>2019-06-11T22:42:54.005Z</td>\n",
       "      <td>53.8</td>\n",
       "      <td>4.0</td>\n",
       "      <td>49.8</td>\n",
       "      <td>DELIVERY</td>\n",
       "      <td>...</td>\n",
       "      <td>2019-06-11T00:00:00.000Z</td>\n",
       "      <td>1</td>\n",
       "      <td>035b33cd-6ddf-4ee2-a887-7ba490bb9700</td>\n",
       "      <td>c4f8999d4cb83cac8134b2051ffc611d5d660c049c3744...</td>\n",
       "      <td>11</td>\n",
       "      <td>1</td>\n",
       "      <td>6</td>\n",
       "      <td>2019-06-11</td>\n",
       "      <td>-23.64</td>\n",
       "      <td>-46.59</td>\n",
       "    </tr>\n",
       "    <tr>\n",
       "      <th>1</th>\n",
       "      <td>4</td>\n",
       "      <td>998f6d97-f884-40ba-a7a3-e9691930a642</td>\n",
       "      <td>1052187003</td>\n",
       "      <td>2019-10-15 21:01:23.973000+00:00</td>\n",
       "      <td>weekday dinner</td>\n",
       "      <td>2019-10-15T23:01:41.146Z</td>\n",
       "      <td>54.8</td>\n",
       "      <td>14.0</td>\n",
       "      <td>50.8</td>\n",
       "      <td>DELIVERY</td>\n",
       "      <td>...</td>\n",
       "      <td>2019-10-15T00:00:00.000Z</td>\n",
       "      <td>1</td>\n",
       "      <td>515a402d-8b86-4e6d-9852-f02282736781</td>\n",
       "      <td>fdef6bf0530b1f6507f175167aa442ade79b6e6fa085c9...</td>\n",
       "      <td>15</td>\n",
       "      <td>1</td>\n",
       "      <td>10</td>\n",
       "      <td>2019-10-15</td>\n",
       "      <td>-23.45</td>\n",
       "      <td>-46.73</td>\n",
       "    </tr>\n",
       "    <tr>\n",
       "      <th>2</th>\n",
       "      <td>13</td>\n",
       "      <td>4511884b-ac72-44c2-9321-eb59e93dca45</td>\n",
       "      <td>690050151</td>\n",
       "      <td>2019-06-10 00:41:14.558000+00:00</td>\n",
       "      <td>weekend dawn</td>\n",
       "      <td>2019-06-10T06:48:56.869Z</td>\n",
       "      <td>46.8</td>\n",
       "      <td>4.0</td>\n",
       "      <td>42.8</td>\n",
       "      <td>DELIVERY</td>\n",
       "      <td>...</td>\n",
       "      <td>2019-06-10T00:00:00.000Z</td>\n",
       "      <td>1</td>\n",
       "      <td>4e0bfb70-5bde-4f74-8865-c67c83012c76</td>\n",
       "      <td>6cf18243f88c0e11fbd53d802282b299e76def34285cf8...</td>\n",
       "      <td>10</td>\n",
       "      <td>0</td>\n",
       "      <td>6</td>\n",
       "      <td>2019-06-10</td>\n",
       "      <td>-23.60</td>\n",
       "      <td>-46.65</td>\n",
       "    </tr>\n",
       "    <tr>\n",
       "      <th>3</th>\n",
       "      <td>20</td>\n",
       "      <td>e549a902-517c-495f-813d-456ec4d4033f</td>\n",
       "      <td>977624842</td>\n",
       "      <td>2019-09-25 20:05:11.830000+00:00</td>\n",
       "      <td>weekday dinner</td>\n",
       "      <td>2019-09-25T22:06:06.277Z</td>\n",
       "      <td>25.0</td>\n",
       "      <td>4.0</td>\n",
       "      <td>21.0</td>\n",
       "      <td>DELIVERY</td>\n",
       "      <td>...</td>\n",
       "      <td>2019-09-25T00:00:00.000Z</td>\n",
       "      <td>1</td>\n",
       "      <td>69abf615-df30-4519-9b6d-3ccd3411d400</td>\n",
       "      <td>45b8ce14a552f747873f76bfd5df5454ab5a285fbe9f0a...</td>\n",
       "      <td>25</td>\n",
       "      <td>2</td>\n",
       "      <td>9</td>\n",
       "      <td>2019-09-25</td>\n",
       "      <td>-23.47</td>\n",
       "      <td>-46.66</td>\n",
       "    </tr>\n",
       "    <tr>\n",
       "      <th>4</th>\n",
       "      <td>22</td>\n",
       "      <td>8c062ba1-b30f-42ff-ab80-914a1df4446a</td>\n",
       "      <td>780756938</td>\n",
       "      <td>2019-07-16 12:03:28.002000+00:00</td>\n",
       "      <td>weekday lunch</td>\n",
       "      <td>2019-07-16T12:40:17.416Z</td>\n",
       "      <td>28.6</td>\n",
       "      <td>12.0</td>\n",
       "      <td>16.6</td>\n",
       "      <td>DELIVERY</td>\n",
       "      <td>...</td>\n",
       "      <td>2019-07-16T00:00:00.000Z</td>\n",
       "      <td>1</td>\n",
       "      <td>6f957f27-89a3-4847-8880-b86681c8f761</td>\n",
       "      <td>4311cabf116b98af5288a4e67b08d4cd3a7fa8bcc9b51c...</td>\n",
       "      <td>16</td>\n",
       "      <td>1</td>\n",
       "      <td>7</td>\n",
       "      <td>2019-07-16</td>\n",
       "      <td>-23.57</td>\n",
       "      <td>-46.67</td>\n",
       "    </tr>\n",
       "  </tbody>\n",
       "</table>\n",
       "<p>5 rows × 50 columns</p>\n",
       "</div>"
      ],
      "text/plain": [
       "   Unnamed: 0                              order_id  order_number  \\\n",
       "0           2  e8c55557-81d4-4159-bd2b-c144e5fbabe3     694742752   \n",
       "1           4  998f6d97-f884-40ba-a7a3-e9691930a642    1052187003   \n",
       "2          13  4511884b-ac72-44c2-9321-eb59e93dca45     690050151   \n",
       "3          20  e549a902-517c-495f-813d-456ec4d4033f     977624842   \n",
       "4          22  8c062ba1-b30f-42ff-ab80-914a1df4446a     780756938   \n",
       "\n",
       "              order_timestamp_local     order_shift    last_status_date_local  \\\n",
       "0  2019-06-11 20:42:32.058000+00:00  weekday dinner  2019-06-11T22:42:54.005Z   \n",
       "1  2019-10-15 21:01:23.973000+00:00  weekday dinner  2019-10-15T23:01:41.146Z   \n",
       "2  2019-06-10 00:41:14.558000+00:00    weekend dawn  2019-06-10T06:48:56.869Z   \n",
       "3  2019-09-25 20:05:11.830000+00:00  weekday dinner  2019-09-25T22:06:06.277Z   \n",
       "4  2019-07-16 12:03:28.002000+00:00   weekday lunch  2019-07-16T12:40:17.416Z   \n",
       "\n",
       "   order_total  credit  paid_amount delivery_type  ...  \\\n",
       "0         53.8     4.0         49.8      DELIVERY  ...   \n",
       "1         54.8    14.0         50.8      DELIVERY  ...   \n",
       "2         46.8     4.0         42.8      DELIVERY  ...   \n",
       "3         25.0     4.0         21.0      DELIVERY  ...   \n",
       "4         28.6    12.0         16.6      DELIVERY  ...   \n",
       "\n",
       "           order_date_local valid_order                            session_id  \\\n",
       "0  2019-06-11T00:00:00.000Z           1  035b33cd-6ddf-4ee2-a887-7ba490bb9700   \n",
       "1  2019-10-15T00:00:00.000Z           1  515a402d-8b86-4e6d-9852-f02282736781   \n",
       "2  2019-06-10T00:00:00.000Z           1  4e0bfb70-5bde-4f74-8865-c67c83012c76   \n",
       "3  2019-09-25T00:00:00.000Z           1  69abf615-df30-4519-9b6d-3ccd3411d400   \n",
       "4  2019-07-16T00:00:00.000Z           1  6f957f27-89a3-4847-8880-b86681c8f761   \n",
       "\n",
       "                                         customer_id order_month_day  \\\n",
       "0  c4f8999d4cb83cac8134b2051ffc611d5d660c049c3744...              11   \n",
       "1  fdef6bf0530b1f6507f175167aa442ade79b6e6fa085c9...              15   \n",
       "2  6cf18243f88c0e11fbd53d802282b299e76def34285cf8...              10   \n",
       "3  45b8ce14a552f747873f76bfd5df5454ab5a285fbe9f0a...              25   \n",
       "4  4311cabf116b98af5288a4e67b08d4cd3a7fa8bcc9b51c...              16   \n",
       "\n",
       "  order_weekday order_month  order_date customer_latitude customer_longitude  \n",
       "0             1           6  2019-06-11            -23.64             -46.59  \n",
       "1             1          10  2019-10-15            -23.45             -46.73  \n",
       "2             0           6  2019-06-10            -23.60             -46.65  \n",
       "3             2           9  2019-09-25            -23.47             -46.66  \n",
       "4             1           7  2019-07-16            -23.57             -46.67  \n",
       "\n",
       "[5 rows x 50 columns]"
      ]
     },
     "execution_count": 370,
     "metadata": {},
     "output_type": "execute_result"
    }
   ],
   "source": [
    "pedidos.head()"
   ]
  },
  {
   "cell_type": "code",
   "execution_count": 60,
   "metadata": {},
   "outputs": [
    {
     "data": {
      "text/plain": [
       "Index(['Unnamed: 0', 'order_id', 'order_number', 'order_timestamp_local',\n",
       "       'order_shift', 'last_status_date_local', 'order_total', 'credit',\n",
       "       'paid_amount', 'delivery_type', 'scheduled',\n",
       "       'scheduled_creation_date_local', 'device_app_version', 'device_type',\n",
       "       'device_platform', 'payment_method', 'customer_state_label',\n",
       "       'customer_city', 'customer_district', 'customer_centroid_id',\n",
       "       'customer_has_plus', 'customer_seg_status_last_month',\n",
       "       'customer_seg_recency_bucket', 'customer_seg_frequency_bucket',\n",
       "       'customer_seg_merchant_offer_bucket',\n",
       "       'customer_seg_benefits_sensitivity_bucket', 'customer_seg_marlin_tag',\n",
       "       'customer_seg_gross_income_bucket', 'customer_seg_preferred_shift',\n",
       "       'frn_id', 'merchant_city', 'merchant_district', 'merchant_centroid_id',\n",
       "       'merchant_dish_type', 'distance_merchant_customer',\n",
       "       'promo_is_promotion', 'normal_items_quantity', 'promo_items_quantity',\n",
       "       'order_lag_at_login', 'order_lead_at_login', 'order_date_local',\n",
       "       'valid_order', 'session_id', 'customer_id', 'order_month_day',\n",
       "       'order_weekday', 'order_month', 'order_date', 'customer_latitude',\n",
       "       'customer_longitude'],\n",
       "      dtype='object')"
      ]
     },
     "execution_count": 60,
     "metadata": {},
     "output_type": "execute_result"
    }
   ],
   "source": [
    "pedidos.columns"
   ]
  },
  {
   "cell_type": "code",
   "execution_count": 61,
   "metadata": {},
   "outputs": [
    {
     "data": {
      "text/plain": [
       "Timestamp('2019-06-01 00:00:15.369000+0000', tz='UTC')"
      ]
     },
     "execution_count": 61,
     "metadata": {},
     "output_type": "execute_result"
    }
   ],
   "source": [
    "pd.to_datetime(pedidos['order_timestamp_local']).min()"
   ]
  },
  {
   "cell_type": "code",
   "execution_count": 62,
   "metadata": {},
   "outputs": [
    {
     "data": {
      "text/plain": [
       "Timestamp('2019-12-31 22:54:42.278000+0000', tz='UTC')"
      ]
     },
     "execution_count": 62,
     "metadata": {},
     "output_type": "execute_result"
    }
   ],
   "source": [
    "pd.to_datetime(pedidos['order_timestamp_local']).max()"
   ]
  },
  {
   "cell_type": "markdown",
   "metadata": {},
   "source": [
    " - Criando uma coluna com as inforamações da lat e long do cliente que fez o pedido com objetos do Shapely para que o Geodataframe seja criado sem problemas"
   ]
  },
  {
   "cell_type": "code",
   "execution_count": 371,
   "metadata": {},
   "outputs": [],
   "source": [
    "pedidos['pontos'] = [ shp.geometry.Point(x,y) for x , y in zip( pedidos['customer_longitude'] , pedidos['customer_latitude'] ) ]"
   ]
  },
  {
   "cell_type": "markdown",
   "metadata": {},
   "source": [
    "- Mantendo apenas as variáveis que fazem sentido para a previsão dos pedidos, pois as outras são informações que só se obtém quando o pedido é encerrado."
   ]
  },
  {
   "cell_type": "code",
   "execution_count": 372,
   "metadata": {},
   "outputs": [],
   "source": [
    "#Variaveis para manter na base de dados final\n",
    "keep = ['order_timestamp_local', 'order_shift' , 'order_weekday', 'order_month','order_date', 'customer_longitude' , 'customer_latitude', 'pontos']"
   ]
  },
  {
   "cell_type": "code",
   "execution_count": 373,
   "metadata": {},
   "outputs": [
    {
     "name": "stdout",
     "output_type": "stream",
     "text": [
      "(81810, 8)\n"
     ]
    },
    {
     "data": {
      "text/html": [
       "<div>\n",
       "<style scoped>\n",
       "    .dataframe tbody tr th:only-of-type {\n",
       "        vertical-align: middle;\n",
       "    }\n",
       "\n",
       "    .dataframe tbody tr th {\n",
       "        vertical-align: top;\n",
       "    }\n",
       "\n",
       "    .dataframe thead th {\n",
       "        text-align: right;\n",
       "    }\n",
       "</style>\n",
       "<table border=\"1\" class=\"dataframe\">\n",
       "  <thead>\n",
       "    <tr style=\"text-align: right;\">\n",
       "      <th></th>\n",
       "      <th>order_timestamp_local</th>\n",
       "      <th>order_shift</th>\n",
       "      <th>order_weekday</th>\n",
       "      <th>order_month</th>\n",
       "      <th>order_date</th>\n",
       "      <th>customer_longitude</th>\n",
       "      <th>customer_latitude</th>\n",
       "      <th>pontos</th>\n",
       "    </tr>\n",
       "  </thead>\n",
       "  <tbody>\n",
       "    <tr>\n",
       "      <th>0</th>\n",
       "      <td>2019-06-11 20:42:32.058000+00:00</td>\n",
       "      <td>weekday dinner</td>\n",
       "      <td>1</td>\n",
       "      <td>6</td>\n",
       "      <td>2019-06-11</td>\n",
       "      <td>-46.59</td>\n",
       "      <td>-23.64</td>\n",
       "      <td>POINT (-46.59 -23.64)</td>\n",
       "    </tr>\n",
       "    <tr>\n",
       "      <th>1</th>\n",
       "      <td>2019-10-15 21:01:23.973000+00:00</td>\n",
       "      <td>weekday dinner</td>\n",
       "      <td>1</td>\n",
       "      <td>10</td>\n",
       "      <td>2019-10-15</td>\n",
       "      <td>-46.73</td>\n",
       "      <td>-23.45</td>\n",
       "      <td>POINT (-46.73 -23.45)</td>\n",
       "    </tr>\n",
       "    <tr>\n",
       "      <th>2</th>\n",
       "      <td>2019-06-10 00:41:14.558000+00:00</td>\n",
       "      <td>weekend dawn</td>\n",
       "      <td>0</td>\n",
       "      <td>6</td>\n",
       "      <td>2019-06-10</td>\n",
       "      <td>-46.65</td>\n",
       "      <td>-23.60</td>\n",
       "      <td>POINT (-46.65 -23.6)</td>\n",
       "    </tr>\n",
       "    <tr>\n",
       "      <th>3</th>\n",
       "      <td>2019-09-25 20:05:11.830000+00:00</td>\n",
       "      <td>weekday dinner</td>\n",
       "      <td>2</td>\n",
       "      <td>9</td>\n",
       "      <td>2019-09-25</td>\n",
       "      <td>-46.66</td>\n",
       "      <td>-23.47</td>\n",
       "      <td>POINT (-46.66 -23.47)</td>\n",
       "    </tr>\n",
       "    <tr>\n",
       "      <th>4</th>\n",
       "      <td>2019-07-16 12:03:28.002000+00:00</td>\n",
       "      <td>weekday lunch</td>\n",
       "      <td>1</td>\n",
       "      <td>7</td>\n",
       "      <td>2019-07-16</td>\n",
       "      <td>-46.67</td>\n",
       "      <td>-23.57</td>\n",
       "      <td>POINT (-46.67 -23.57)</td>\n",
       "    </tr>\n",
       "  </tbody>\n",
       "</table>\n",
       "</div>"
      ],
      "text/plain": [
       "              order_timestamp_local     order_shift  order_weekday  \\\n",
       "0  2019-06-11 20:42:32.058000+00:00  weekday dinner              1   \n",
       "1  2019-10-15 21:01:23.973000+00:00  weekday dinner              1   \n",
       "2  2019-06-10 00:41:14.558000+00:00    weekend dawn              0   \n",
       "3  2019-09-25 20:05:11.830000+00:00  weekday dinner              2   \n",
       "4  2019-07-16 12:03:28.002000+00:00   weekday lunch              1   \n",
       "\n",
       "   order_month  order_date  customer_longitude  customer_latitude  \\\n",
       "0            6  2019-06-11              -46.59             -23.64   \n",
       "1           10  2019-10-15              -46.73             -23.45   \n",
       "2            6  2019-06-10              -46.65             -23.60   \n",
       "3            9  2019-09-25              -46.66             -23.47   \n",
       "4            7  2019-07-16              -46.67             -23.57   \n",
       "\n",
       "                  pontos  \n",
       "0  POINT (-46.59 -23.64)  \n",
       "1  POINT (-46.73 -23.45)  \n",
       "2   POINT (-46.65 -23.6)  \n",
       "3  POINT (-46.66 -23.47)  \n",
       "4  POINT (-46.67 -23.57)  "
      ]
     },
     "execution_count": 373,
     "metadata": {},
     "output_type": "execute_result"
    }
   ],
   "source": [
    "pedidos2 = pedidos[ keep ]\n",
    "print( pedidos2.shape )\n",
    "pedidos2.head()"
   ]
  },
  {
   "cell_type": "markdown",
   "metadata": {},
   "source": [
    " - Montando a base final com cada pedido realizado dentro de centro expandido , junto com a marcação de cada distrito por pedido"
   ]
  },
  {
   "cell_type": "code",
   "execution_count": 141,
   "metadata": {},
   "outputs": [
    {
     "name": "stderr",
     "output_type": "stream",
     "text": [
      "C:\\Users\\Herlisson\\Anaconda3\\lib\\site-packages\\geopandas\\tools\\sjoin.py:61: UserWarning: CRS of frames being joined does not match!(None != {'init': 'epsg:4326', 'no_defs': True})\n",
      "  \"(%s != %s)\" % (left_df.crs, right_df.crs)\n"
     ]
    }
   ],
   "source": [
    "pedidos_geo = gpd.GeoDataFrame(pedidos2 , geometry = 'pontos')\n",
    "\n",
    "pedidos_final  = gpd.sjoin(pedidos_geo, distritos_ce,  how= 'inner' ).reset_index(drop = True)\n",
    "pedidos_final['data'] = pd.to_datetime(pedidos_final['order_timestamp_local']).dt.date"
   ]
  },
  {
   "cell_type": "code",
   "execution_count": 142,
   "metadata": {
    "collapsed": true,
    "jupyter": {
     "outputs_hidden": true
    }
   },
   "outputs": [
    {
     "data": {
      "text/html": [
       "<div>\n",
       "<style scoped>\n",
       "    .dataframe tbody tr th:only-of-type {\n",
       "        vertical-align: middle;\n",
       "    }\n",
       "\n",
       "    .dataframe tbody tr th {\n",
       "        vertical-align: top;\n",
       "    }\n",
       "\n",
       "    .dataframe thead th {\n",
       "        text-align: right;\n",
       "    }\n",
       "</style>\n",
       "<table border=\"1\" class=\"dataframe\">\n",
       "  <thead>\n",
       "    <tr style=\"text-align: right;\">\n",
       "      <th></th>\n",
       "      <th>order_timestamp_local</th>\n",
       "      <th>order_shift</th>\n",
       "      <th>order_weekday</th>\n",
       "      <th>order_month</th>\n",
       "      <th>order_date</th>\n",
       "      <th>customer_longitude</th>\n",
       "      <th>customer_latitude</th>\n",
       "      <th>pontos</th>\n",
       "      <th>index_right</th>\n",
       "      <th>NOME_DIST</th>\n",
       "      <th>rep</th>\n",
       "      <th>data</th>\n",
       "    </tr>\n",
       "  </thead>\n",
       "  <tbody>\n",
       "    <tr>\n",
       "      <th>0</th>\n",
       "      <td>2019-06-10 00:41:14.558000+00:00</td>\n",
       "      <td>weekend dawn</td>\n",
       "      <td>0</td>\n",
       "      <td>6</td>\n",
       "      <td>2019-06-10</td>\n",
       "      <td>-46.65</td>\n",
       "      <td>-23.60</td>\n",
       "      <td>POINT (-46.65000 -23.60000)</td>\n",
       "      <td>79</td>\n",
       "      <td>SAUDE</td>\n",
       "      <td>POINT (-46.64062 -23.61412)</td>\n",
       "      <td>2019-06-10</td>\n",
       "    </tr>\n",
       "    <tr>\n",
       "      <th>1</th>\n",
       "      <td>2019-09-24 13:32:57.191000+00:00</td>\n",
       "      <td>weekday lunch</td>\n",
       "      <td>1</td>\n",
       "      <td>9</td>\n",
       "      <td>2019-09-24</td>\n",
       "      <td>-46.64</td>\n",
       "      <td>-23.62</td>\n",
       "      <td>POINT (-46.64000 -23.62000)</td>\n",
       "      <td>79</td>\n",
       "      <td>SAUDE</td>\n",
       "      <td>POINT (-46.64062 -23.61412)</td>\n",
       "      <td>2019-09-24</td>\n",
       "    </tr>\n",
       "    <tr>\n",
       "      <th>2</th>\n",
       "      <td>2019-06-05 11:50:00+00:00</td>\n",
       "      <td>weekday lunch</td>\n",
       "      <td>2</td>\n",
       "      <td>6</td>\n",
       "      <td>2019-06-05</td>\n",
       "      <td>-46.65</td>\n",
       "      <td>-23.61</td>\n",
       "      <td>POINT (-46.65000 -23.61000)</td>\n",
       "      <td>79</td>\n",
       "      <td>SAUDE</td>\n",
       "      <td>POINT (-46.64062 -23.61412)</td>\n",
       "      <td>2019-06-05</td>\n",
       "    </tr>\n",
       "    <tr>\n",
       "      <th>3</th>\n",
       "      <td>2019-12-26 22:16:24.668000+00:00</td>\n",
       "      <td>weekday dinner</td>\n",
       "      <td>3</td>\n",
       "      <td>12</td>\n",
       "      <td>2019-12-26</td>\n",
       "      <td>-46.64</td>\n",
       "      <td>-23.62</td>\n",
       "      <td>POINT (-46.64000 -23.62000)</td>\n",
       "      <td>79</td>\n",
       "      <td>SAUDE</td>\n",
       "      <td>POINT (-46.64062 -23.61412)</td>\n",
       "      <td>2019-12-26</td>\n",
       "    </tr>\n",
       "    <tr>\n",
       "      <th>4</th>\n",
       "      <td>2019-12-12 13:21:46.332000+00:00</td>\n",
       "      <td>weekday lunch</td>\n",
       "      <td>3</td>\n",
       "      <td>12</td>\n",
       "      <td>2019-12-12</td>\n",
       "      <td>-46.64</td>\n",
       "      <td>-23.60</td>\n",
       "      <td>POINT (-46.64000 -23.60000)</td>\n",
       "      <td>79</td>\n",
       "      <td>SAUDE</td>\n",
       "      <td>POINT (-46.64062 -23.61412)</td>\n",
       "      <td>2019-12-12</td>\n",
       "    </tr>\n",
       "  </tbody>\n",
       "</table>\n",
       "</div>"
      ],
      "text/plain": [
       "              order_timestamp_local     order_shift  order_weekday  \\\n",
       "0  2019-06-10 00:41:14.558000+00:00    weekend dawn              0   \n",
       "1  2019-09-24 13:32:57.191000+00:00   weekday lunch              1   \n",
       "2         2019-06-05 11:50:00+00:00   weekday lunch              2   \n",
       "3  2019-12-26 22:16:24.668000+00:00  weekday dinner              3   \n",
       "4  2019-12-12 13:21:46.332000+00:00   weekday lunch              3   \n",
       "\n",
       "   order_month  order_date  customer_longitude  customer_latitude  \\\n",
       "0            6  2019-06-10              -46.65             -23.60   \n",
       "1            9  2019-09-24              -46.64             -23.62   \n",
       "2            6  2019-06-05              -46.65             -23.61   \n",
       "3           12  2019-12-26              -46.64             -23.62   \n",
       "4           12  2019-12-12              -46.64             -23.60   \n",
       "\n",
       "                        pontos  index_right NOME_DIST  \\\n",
       "0  POINT (-46.65000 -23.60000)           79     SAUDE   \n",
       "1  POINT (-46.64000 -23.62000)           79     SAUDE   \n",
       "2  POINT (-46.65000 -23.61000)           79     SAUDE   \n",
       "3  POINT (-46.64000 -23.62000)           79     SAUDE   \n",
       "4  POINT (-46.64000 -23.60000)           79     SAUDE   \n",
       "\n",
       "                           rep        data  \n",
       "0  POINT (-46.64062 -23.61412)  2019-06-10  \n",
       "1  POINT (-46.64062 -23.61412)  2019-09-24  \n",
       "2  POINT (-46.64062 -23.61412)  2019-06-05  \n",
       "3  POINT (-46.64062 -23.61412)  2019-12-26  \n",
       "4  POINT (-46.64062 -23.61412)  2019-12-12  "
      ]
     },
     "execution_count": 142,
     "metadata": {},
     "output_type": "execute_result"
    }
   ],
   "source": [
    "pedidos_final.head()"
   ]
  },
  {
   "cell_type": "code",
   "execution_count": 130,
   "metadata": {},
   "outputs": [],
   "source": [
    "pedidos_final.to_csv('pedidos_final_ce_sp.csv' , index=False)"
   ]
  },
  {
   "cell_type": "code",
   "execution_count": null,
   "metadata": {},
   "outputs": [],
   "source": []
  },
  {
   "cell_type": "markdown",
   "metadata": {},
   "source": [
    "---\n",
    "### Relendo arquivos tratados de geometrias e pedidos para continuar <a name=\"releitura\"></a>"
   ]
  },
  {
   "cell_type": "code",
   "execution_count": 6,
   "metadata": {},
   "outputs": [],
   "source": [
    "distritos_ce = pd.read_csv('distritos_centro_expandido_sp.csv')\n",
    "distritos_ce['geometry']=distritos_ce['geometry'].apply( shp.wkt.loads )\n",
    "distritos_ce = gpd.GeoDataFrame( distritos_ce , geometry='geometry')"
   ]
  },
  {
   "cell_type": "code",
   "execution_count": 7,
   "metadata": {},
   "outputs": [],
   "source": [
    "#Lendo o arquivo novamente para continuar\n",
    "pedidos_final =  pd.read_csv('pedidos_final_ce_sp.csv')\n",
    "pedidos_final['pontos'] = [ shp.geometry.Point(x,y) for x , y in zip( pedidos_final['customer_longitude'] , pedidos_final['customer_latitude'] ) ]\n",
    "pedidos_final['data'] = pd.to_datetime(pedidos_final['order_timestamp_local']).dt.date.astype('datetime64')\n",
    "pedidos_final = gpd.GeoDataFrame(pedidos_final , geometry = 'pontos')\n",
    "\n",
    "pedidos_final_agg = pedidos_final.groupby(['NOME_DIST', 'data','order_weekday' , 'order_month']) \\\n",
    "            .count()['order_timestamp_local'].reset_index() \\\n",
    "            .rename(columns= {'order_timestamp_local':'count_orders'})"
   ]
  },
  {
   "cell_type": "code",
   "execution_count": 8,
   "metadata": {},
   "outputs": [
    {
     "data": {
      "text/plain": [
       "(36135, 12)"
      ]
     },
     "execution_count": 8,
     "metadata": {},
     "output_type": "execute_result"
    }
   ],
   "source": [
    "pedidos_final.shape"
   ]
  },
  {
   "cell_type": "code",
   "execution_count": 9,
   "metadata": {},
   "outputs": [],
   "source": [
    "resumo = pedidos_final_agg.groupby('NOME_DIST').agg( {'count_orders': ['count','sum', 'min', 'median', 'mean', 'max', 'std']})"
   ]
  },
  {
   "cell_type": "markdown",
   "metadata": {},
   "source": [
    "---\n",
    "### Analise exploratória - Pedidos <a name=\"exploratoria\"></a>"
   ]
  },
  {
   "cell_type": "code",
   "execution_count": 38,
   "metadata": {},
   "outputs": [
    {
     "data": {
      "image/png": "[encoded data removed]",
      "text/plain": [
       "<Figure size 1050x280 with 1 Axes>"
      ]
     },
     "metadata": {},
     "output_type": "display_data"
    }
   ],
   "source": [
    "#Plotando o boxplot com as distribuições de pedidos por distrito\n",
    "figure(figsize=(15,4), dpi=70)\n",
    "ax = plt.axes()\n",
    "fig = sns.boxplot( x = 'NOME_DIST', y ='count_orders', data= pedidos_final_agg  )\n",
    "fig.set_xlabel('Nome do distrito')\n",
    "fig.set_ylabel('Quantidade de pedidos')\n",
    "fig.set_title('Boxplots das distribuições de pedidos por distrito')\n",
    "ax.tick_params(axis='x', rotation=90)\n",
    "\n",
    "plt.savefig('figura_boxplots.png' , bbox_inches='tight')\n",
    "\n",
    "plt.show()\n",
    "\n"
   ]
  },
  {
   "cell_type": "code",
   "execution_count": 14,
   "metadata": {
    "collapsed": true,
    "jupyter": {
     "outputs_hidden": true
    }
   },
   "outputs": [
    {
     "name": "stderr",
     "output_type": "stream",
     "text": [
      "C:\\Users\\Herlisson\\Anaconda3\\lib\\site-packages\\pandas\\core\\reshape\\merge.py:643: UserWarning: merging between different levels can give an unintended result (1 levels on the left,2 on the right)\n",
      "  warnings.warn(msg, UserWarning)\n"
     ]
    },
    {
     "data": {
      "text/html": [
       "<div>\n",
       "<style scoped>\n",
       "    .dataframe tbody tr th:only-of-type {\n",
       "        vertical-align: middle;\n",
       "    }\n",
       "\n",
       "    .dataframe tbody tr th {\n",
       "        vertical-align: top;\n",
       "    }\n",
       "\n",
       "    .dataframe thead th {\n",
       "        text-align: right;\n",
       "    }\n",
       "</style>\n",
       "<table border=\"1\" class=\"dataframe\">\n",
       "  <thead>\n",
       "    <tr style=\"text-align: right;\">\n",
       "      <th></th>\n",
       "      <th>NOME_DIST</th>\n",
       "      <th>geometry</th>\n",
       "      <th>sum</th>\n",
       "      <th>mean</th>\n",
       "    </tr>\n",
       "  </thead>\n",
       "  <tbody>\n",
       "    <tr>\n",
       "      <th>0</th>\n",
       "      <td>JD PAULISTA</td>\n",
       "      <td>POLYGON ((-46.66934 -23.58349, -46.66939 -23.5...</td>\n",
       "      <td>2552</td>\n",
       "      <td>11.925234</td>\n",
       "    </tr>\n",
       "    <tr>\n",
       "      <th>1</th>\n",
       "      <td>LAPA</td>\n",
       "      <td>POLYGON ((-46.71895 -23.53618, -46.71878 -23.5...</td>\n",
       "      <td>1021</td>\n",
       "      <td>4.816038</td>\n",
       "    </tr>\n",
       "    <tr>\n",
       "      <th>2</th>\n",
       "      <td>LIBERDADE</td>\n",
       "      <td>POLYGON ((-46.63738 -23.55575, -46.63709 -23.5...</td>\n",
       "      <td>1476</td>\n",
       "      <td>6.897196</td>\n",
       "    </tr>\n",
       "    <tr>\n",
       "      <th>3</th>\n",
       "      <td>ALTO DE PINHEIROS</td>\n",
       "      <td>POLYGON ((-46.71895 -23.53618, -46.71886 -23.5...</td>\n",
       "      <td>810</td>\n",
       "      <td>3.913043</td>\n",
       "    </tr>\n",
       "    <tr>\n",
       "      <th>4</th>\n",
       "      <td>BARRA FUNDA</td>\n",
       "      <td>POLYGON ((-46.68931 -23.50854, -46.68921 -23.5...</td>\n",
       "      <td>834</td>\n",
       "      <td>3.990431</td>\n",
       "    </tr>\n",
       "    <tr>\n",
       "      <th>5</th>\n",
       "      <td>BELA VISTA</td>\n",
       "      <td>POLYGON ((-46.64856 -23.56733, -46.64862 -23.5...</td>\n",
       "      <td>1271</td>\n",
       "      <td>6.052381</td>\n",
       "    </tr>\n",
       "    <tr>\n",
       "      <th>6</th>\n",
       "      <td>BELEM</td>\n",
       "      <td>POLYGON ((-46.57873 -23.54892, -46.57876 -23.5...</td>\n",
       "      <td>343</td>\n",
       "      <td>2.117284</td>\n",
       "    </tr>\n",
       "    <tr>\n",
       "      <th>7</th>\n",
       "      <td>BOM RETIRO</td>\n",
       "      <td>POLYGON ((-46.65346 -23.51630, -46.65251 -23.5...</td>\n",
       "      <td>267</td>\n",
       "      <td>1.867133</td>\n",
       "    </tr>\n",
       "    <tr>\n",
       "      <th>8</th>\n",
       "      <td>BRAS</td>\n",
       "      <td>POLYGON ((-46.60978 -23.55415, -46.61035 -23.5...</td>\n",
       "      <td>316</td>\n",
       "      <td>1.962733</td>\n",
       "    </tr>\n",
       "    <tr>\n",
       "      <th>9</th>\n",
       "      <td>CAMBUCI</td>\n",
       "      <td>POLYGON ((-46.61759 -23.57857, -46.61767 -23.5...</td>\n",
       "      <td>339</td>\n",
       "      <td>2.005917</td>\n",
       "    </tr>\n",
       "    <tr>\n",
       "      <th>10</th>\n",
       "      <td>CONSOLACAO</td>\n",
       "      <td>POLYGON ((-46.65855 -23.55887, -46.65863 -23.5...</td>\n",
       "      <td>2693</td>\n",
       "      <td>12.584112</td>\n",
       "    </tr>\n",
       "    <tr>\n",
       "      <th>11</th>\n",
       "      <td>IPIRANGA</td>\n",
       "      <td>POLYGON ((-46.61759 -23.57857, -46.61759 -23.5...</td>\n",
       "      <td>1137</td>\n",
       "      <td>5.338028</td>\n",
       "    </tr>\n",
       "    <tr>\n",
       "      <th>12</th>\n",
       "      <td>ITAIM BIBI</td>\n",
       "      <td>POLYGON ((-46.68666 -23.62573, -46.68678 -23.6...</td>\n",
       "      <td>3503</td>\n",
       "      <td>16.369159</td>\n",
       "    </tr>\n",
       "    <tr>\n",
       "      <th>13</th>\n",
       "      <td>MOEMA</td>\n",
       "      <td>POLYGON ((-46.65316 -23.57170, -46.65313 -23.5...</td>\n",
       "      <td>2752</td>\n",
       "      <td>12.859813</td>\n",
       "    </tr>\n",
       "    <tr>\n",
       "      <th>14</th>\n",
       "      <td>MOOCA</td>\n",
       "      <td>POLYGON ((-46.60348 -23.56671, -46.60350 -23.5...</td>\n",
       "      <td>1404</td>\n",
       "      <td>6.560748</td>\n",
       "    </tr>\n",
       "    <tr>\n",
       "      <th>15</th>\n",
       "      <td>PARI</td>\n",
       "      <td>POLYGON ((-46.61847 -23.51835, -46.61736 -23.5...</td>\n",
       "      <td>168</td>\n",
       "      <td>1.600000</td>\n",
       "    </tr>\n",
       "    <tr>\n",
       "      <th>16</th>\n",
       "      <td>PERDIZES</td>\n",
       "      <td>POLYGON ((-46.69253 -23.54453, -46.69259 -23.5...</td>\n",
       "      <td>2139</td>\n",
       "      <td>9.995327</td>\n",
       "    </tr>\n",
       "    <tr>\n",
       "      <th>17</th>\n",
       "      <td>PINHEIROS</td>\n",
       "      <td>POLYGON ((-46.70045 -23.57184, -46.70048 -23.5...</td>\n",
       "      <td>2484</td>\n",
       "      <td>11.661972</td>\n",
       "    </tr>\n",
       "    <tr>\n",
       "      <th>18</th>\n",
       "      <td>SAUDE</td>\n",
       "      <td>POLYGON ((-46.65036 -23.59819, -46.65016 -23.5...</td>\n",
       "      <td>2677</td>\n",
       "      <td>12.509346</td>\n",
       "    </tr>\n",
       "    <tr>\n",
       "      <th>19</th>\n",
       "      <td>SE</td>\n",
       "      <td>POLYGON ((-46.63277 -23.53539, -46.63275 -23.5...</td>\n",
       "      <td>313</td>\n",
       "      <td>2.019355</td>\n",
       "    </tr>\n",
       "    <tr>\n",
       "      <th>20</th>\n",
       "      <td>VILA LEOPOLDINA</td>\n",
       "      <td>POLYGON ((-46.71895 -23.53618, -46.71896 -23.5...</td>\n",
       "      <td>687</td>\n",
       "      <td>3.367647</td>\n",
       "    </tr>\n",
       "    <tr>\n",
       "      <th>21</th>\n",
       "      <td>VILA MARIANA</td>\n",
       "      <td>POLYGON ((-46.65036 -23.59819, -46.65035 -23.5...</td>\n",
       "      <td>4009</td>\n",
       "      <td>18.733645</td>\n",
       "    </tr>\n",
       "    <tr>\n",
       "      <th>22</th>\n",
       "      <td>SANTA CECILIA</td>\n",
       "      <td>POLYGON ((-46.66316 -23.53652, -46.66310 -23.5...</td>\n",
       "      <td>1855</td>\n",
       "      <td>8.668224</td>\n",
       "    </tr>\n",
       "    <tr>\n",
       "      <th>23</th>\n",
       "      <td>REPUBLICA</td>\n",
       "      <td>POLYGON ((-46.64585 -23.53860, -46.64562 -23.5...</td>\n",
       "      <td>1085</td>\n",
       "      <td>5.191388</td>\n",
       "    </tr>\n",
       "  </tbody>\n",
       "</table>\n",
       "</div>"
      ],
      "text/plain": [
       "            NOME_DIST                                           geometry  \\\n",
       "0         JD PAULISTA  POLYGON ((-46.66934 -23.58349, -46.66939 -23.5...   \n",
       "1                LAPA  POLYGON ((-46.71895 -23.53618, -46.71878 -23.5...   \n",
       "2           LIBERDADE  POLYGON ((-46.63738 -23.55575, -46.63709 -23.5...   \n",
       "3   ALTO DE PINHEIROS  POLYGON ((-46.71895 -23.53618, -46.71886 -23.5...   \n",
       "4         BARRA FUNDA  POLYGON ((-46.68931 -23.50854, -46.68921 -23.5...   \n",
       "5          BELA VISTA  POLYGON ((-46.64856 -23.56733, -46.64862 -23.5...   \n",
       "6               BELEM  POLYGON ((-46.57873 -23.54892, -46.57876 -23.5...   \n",
       "7          BOM RETIRO  POLYGON ((-46.65346 -23.51630, -46.65251 -23.5...   \n",
       "8                BRAS  POLYGON ((-46.60978 -23.55415, -46.61035 -23.5...   \n",
       "9             CAMBUCI  POLYGON ((-46.61759 -23.57857, -46.61767 -23.5...   \n",
       "10         CONSOLACAO  POLYGON ((-46.65855 -23.55887, -46.65863 -23.5...   \n",
       "11           IPIRANGA  POLYGON ((-46.61759 -23.57857, -46.61759 -23.5...   \n",
       "12         ITAIM BIBI  POLYGON ((-46.68666 -23.62573, -46.68678 -23.6...   \n",
       "13              MOEMA  POLYGON ((-46.65316 -23.57170, -46.65313 -23.5...   \n",
       "14              MOOCA  POLYGON ((-46.60348 -23.56671, -46.60350 -23.5...   \n",
       "15               PARI  POLYGON ((-46.61847 -23.51835, -46.61736 -23.5...   \n",
       "16           PERDIZES  POLYGON ((-46.69253 -23.54453, -46.69259 -23.5...   \n",
       "17          PINHEIROS  POLYGON ((-46.70045 -23.57184, -46.70048 -23.5...   \n",
       "18              SAUDE  POLYGON ((-46.65036 -23.59819, -46.65016 -23.5...   \n",
       "19                 SE  POLYGON ((-46.63277 -23.53539, -46.63275 -23.5...   \n",
       "20    VILA LEOPOLDINA  POLYGON ((-46.71895 -23.53618, -46.71896 -23.5...   \n",
       "21       VILA MARIANA  POLYGON ((-46.65036 -23.59819, -46.65035 -23.5...   \n",
       "22      SANTA CECILIA  POLYGON ((-46.66316 -23.53652, -46.66310 -23.5...   \n",
       "23          REPUBLICA  POLYGON ((-46.64585 -23.53860, -46.64562 -23.5...   \n",
       "\n",
       "     sum       mean  \n",
       "0   2552  11.925234  \n",
       "1   1021   4.816038  \n",
       "2   1476   6.897196  \n",
       "3    810   3.913043  \n",
       "4    834   3.990431  \n",
       "5   1271   6.052381  \n",
       "6    343   2.117284  \n",
       "7    267   1.867133  \n",
       "8    316   1.962733  \n",
       "9    339   2.005917  \n",
       "10  2693  12.584112  \n",
       "11  1137   5.338028  \n",
       "12  3503  16.369159  \n",
       "13  2752  12.859813  \n",
       "14  1404   6.560748  \n",
       "15   168   1.600000  \n",
       "16  2139   9.995327  \n",
       "17  2484  11.661972  \n",
       "18  2677  12.509346  \n",
       "19   313   2.019355  \n",
       "20   687   3.367647  \n",
       "21  4009  18.733645  \n",
       "22  1855   8.668224  \n",
       "23  1085   5.191388  "
      ]
     },
     "execution_count": 14,
     "metadata": {},
     "output_type": "execute_result"
    }
   ],
   "source": [
    "distritos_ce.merge( resumo[[('count_orders','sum'),('count_orders','mean')]], how = 'left' , left_on ='NOME_DIST', right_index=True ).rename(columns={('count_orders', 'sum'):\"sum\" , ('count_orders', 'mean'):\"mean\" })"
   ]
  },
  {
   "cell_type": "code",
   "execution_count": 21,
   "metadata": {},
   "outputs": [
    {
     "name": "stderr",
     "output_type": "stream",
     "text": [
      "C:\\Users\\Herlisson\\Anaconda3\\lib\\site-packages\\pandas\\core\\reshape\\merge.py:643: UserWarning: merging between different levels can give an unintended result (1 levels on the left,2 on the right)\n",
      "  warnings.warn(msg, UserWarning)\n"
     ]
    },
    {
     "data": {
      "text/plain": [
       "Text(0.5, 1.0, 'Mapa cloroplético dos pedidos por distrito')"
      ]
     },
     "execution_count": 21,
     "metadata": {},
     "output_type": "execute_result"
    },
    {
     "data": {
      "image/png": "[encoded data removed]",
      "text/plain": [
       "<Figure size 800x400 with 2 Axes>"
      ]
     },
     "metadata": {},
     "output_type": "display_data"
    },
    {
     "data": {
      "image/png": "[encoded data removed]",
      "text/plain": [
       "<Figure size 700x350 with 2 Axes>"
      ]
     },
     "metadata": {},
     "output_type": "display_data"
    }
   ],
   "source": [
    "distritos2 = distritos_ce.merge( resumo[[('count_orders','sum'),('count_orders','mean')]], how = 'left' , left_on ='NOME_DIST', right_index=True ).rename(columns={('count_orders', 'sum'):\"sum\" , ('count_orders', 'mean'):\"mean\" })\n",
    "\n",
    "figure(figsize=(10,5), dpi=80)\n",
    "ax = plt.axes()\n",
    "distritos2.plot(column='sum',legend=True , ax=ax , cmap='Blues', edgecolor='black')\n",
    "ax.set_title('Mapa cloroplético dos pedidos por distrito')\n",
    "\n",
    "plt.savefig('figura_pedidos_por_distrito.png' , bbox_inches='tight')\n",
    "\n",
    "figure(figsize=(10,5), dpi=70)\n",
    "ax = plt.axes()\n",
    "distritos2.plot(column='mean',legend=True , ax=ax , cmap='Blues', edgecolor='black')\n",
    "ax.set_title('Mapa cloroplético dos pedidos por distrito')"
   ]
  },
  {
   "cell_type": "code",
   "execution_count": null,
   "metadata": {},
   "outputs": [],
   "source": []
  },
  {
   "cell_type": "markdown",
   "metadata": {},
   "source": [
    "---\n",
    "#### Grafico de tendência dos pedidos ao longo do tempo"
   ]
  },
  {
   "cell_type": "code",
   "execution_count": 32,
   "metadata": {},
   "outputs": [
    {
     "data": {
      "image/png": "[encoded data removed]",
      "text/plain": [
       "<Figure size 1050x280 with 1 Axes>"
      ]
     },
     "metadata": {},
     "output_type": "display_data"
    }
   ],
   "source": [
    "figure(figsize=(15,4), dpi=70)\n",
    "filtro_data = (pedidos_final_agg['data'] >='2019-07-01') & (pedidos_final_agg['data'] <='2019-10-15')\n",
    "ax = sns.lineplot(y='count_orders', x= 'data', data= pedidos_final_agg[filtro_data], ci = None, estimator='sum' , color='royalblue')\n",
    "ax.title.set_text(\"Quantidade de pedidos por dia\")\n",
    "ax.set_ylabel(\"Quantidade de pedidos\")\n",
    "ax.set_xlabel(\"Data\")\n",
    "\n",
    "plt.savefig('figura_serie_pedidos_diarios.png' , bbox_inches='tight')\n",
    "\n",
    "plt.show()"
   ]
  },
  {
   "cell_type": "markdown",
   "metadata": {},
   "source": [
    "#### Aplicacao do teste de tendência Mann-Kendall"
   ]
  },
  {
   "cell_type": "code",
   "execution_count": 20,
   "metadata": {},
   "outputs": [],
   "source": [
    "import pymannkendall as mk"
   ]
  },
  {
   "cell_type": "code",
   "execution_count": 27,
   "metadata": {},
   "outputs": [
    {
     "data": {
      "text/plain": [
       "Mann_Kendall_Test(trend='no trend', h=False, p=0.08098629130725632, z=1.7449918289064177, Tau=0.11444189737259743, s=649.0, var_s=137899.66666666666, slope=0.13580246913580246, intercept=156.80246913580248)"
      ]
     },
     "execution_count": 27,
     "metadata": {},
     "output_type": "execute_result"
    }
   ],
   "source": [
    "mk.original_test( pedidos_final_agg[filtro_data].groupby('data')['count_orders'].sum().values )"
   ]
  },
  {
   "cell_type": "markdown",
   "metadata": {},
   "source": [
    "\n",
    "\n",
    "Considerando um nível de significância de 5%, o p-valor = 8.09% não permite rejeitar a hipótese nula do teste que diz que os dados não possuem tendência.\n",
    "\n"
   ]
  },
  {
   "cell_type": "code",
   "execution_count": null,
   "metadata": {},
   "outputs": [],
   "source": []
  },
  {
   "cell_type": "markdown",
   "metadata": {},
   "source": [
    "---\n",
    "#### Calculando medida de de autocorrelação espacial de Moran - Centro expandido <a name=\"autocorr\"></a>"
   ]
  },
  {
   "cell_type": "code",
   "execution_count": null,
   "metadata": {},
   "outputs": [],
   "source": []
  },
  {
   "cell_type": "code",
   "execution_count": 54,
   "metadata": {},
   "outputs": [],
   "source": [
    "distritos_ce = distritos_ce.sort_values(by='NOME_DIST').reset_index(drop=True )"
   ]
  },
  {
   "cell_type": "code",
   "execution_count": 55,
   "metadata": {},
   "outputs": [],
   "source": [
    "wq = weights.contiguity.Queen.from_dataframe(distritos_ce)"
   ]
  },
  {
   "cell_type": "code",
   "execution_count": 56,
   "metadata": {},
   "outputs": [
    {
     "data": {
      "image/png": "[encoded data removed]",
      "text/plain": [
       "<Figure size 432x288 with 1 Axes>"
      ]
     },
     "metadata": {
      "needs_background": "light"
     },
     "output_type": "display_data"
    }
   ],
   "source": [
    "ax = distritos_ce.plot(edgecolor='k', facecolor='w')\n",
    "wq.plot(distritos_ce, ax=ax, \n",
    "        edge_kws=dict(color='r', linestyle=':', linewidth=1),\n",
    "        node_kws=dict(marker=''))\n",
    "ax.set_axis_off()"
   ]
  },
  {
   "cell_type": "code",
   "execution_count": 40,
   "metadata": {},
   "outputs": [],
   "source": [
    "resumo['count_orders','mean2']  = weights.spatial_lag.lag_spatial(wq, resumo['count_orders']['mean'])"
   ]
  },
  {
   "cell_type": "code",
   "execution_count": 57,
   "metadata": {},
   "outputs": [],
   "source": [
    "wq.transform = 'R'\n",
    "moran = esda.moran.Moran(resumo['count_orders']['mean'] , wq)"
   ]
  },
  {
   "cell_type": "code",
   "execution_count": 67,
   "metadata": {},
   "outputs": [
    {
     "name": "stdout",
     "output_type": "stream",
     "text": [
      "Valor da estatística I de Moran: 0.5533\n",
      "p-valor:0.001\n"
     ]
    }
   ],
   "source": [
    "print(f\"Valor da estatística I de Moran: {round(moran.I , 4)}\\np-valor:{moran.p_sim}\")"
   ]
  },
  {
   "cell_type": "markdown",
   "metadata": {},
   "source": [
    "---"
   ]
  },
  {
   "cell_type": "markdown",
   "metadata": {},
   "source": [
    "---\n",
    "#### Calculando medida de de autocorrelação espacial de Geary - Centro expandido"
   ]
  },
  {
   "cell_type": "code",
   "execution_count": 60,
   "metadata": {},
   "outputs": [],
   "source": [
    "geary = esda.geary.Geary(resumo['count_orders']['mean'], wq)"
   ]
  },
  {
   "cell_type": "code",
   "execution_count": 66,
   "metadata": {},
   "outputs": [
    {
     "name": "stdout",
     "output_type": "stream",
     "text": [
      "Valor da estatística G de Geary: 0.4835\n",
      "p-valor:0.001\n"
     ]
    }
   ],
   "source": [
    "print(f\"Valor da estatística C de Geary: {round(geary.C , 4)}\\np-valor:{geary.p_sim}\")"
   ]
  },
  {
   "cell_type": "code",
   "execution_count": 62,
   "metadata": {},
   "outputs": [
    {
     "data": {
      "text/plain": [
       "0.001"
      ]
     },
     "execution_count": 62,
     "metadata": {},
     "output_type": "execute_result"
    }
   ],
   "source": [
    "geary.p_sim"
   ]
  },
  {
   "cell_type": "code",
   "execution_count": null,
   "metadata": {},
   "outputs": [],
   "source": []
  },
  {
   "cell_type": "code",
   "execution_count": null,
   "metadata": {},
   "outputs": [],
   "source": []
  },
  {
   "cell_type": "markdown",
   "metadata": {},
   "source": [
    "---\n",
    "## Criando dataframe de modelagem e variáveis necessárias <a name=\"criandodfmodelagem\"> </a>"
   ]
  },
  {
   "cell_type": "code",
   "execution_count": 10,
   "metadata": {},
   "outputs": [],
   "source": [
    "data = pd.DataFrame()"
   ]
  },
  {
   "cell_type": "code",
   "execution_count": 11,
   "metadata": {},
   "outputs": [],
   "source": [
    "data['data'] = pd.date_range(start = '2019-06-23', end = '2019-10-14')\n",
    "data['chave'] = 1"
   ]
  },
  {
   "cell_type": "code",
   "execution_count": 12,
   "metadata": {},
   "outputs": [
    {
     "data": {
      "text/plain": [
       "(114,)"
      ]
     },
     "execution_count": 12,
     "metadata": {},
     "output_type": "execute_result"
    }
   ],
   "source": [
    "data['data'].shape"
   ]
  },
  {
   "cell_type": "code",
   "execution_count": 13,
   "metadata": {},
   "outputs": [
    {
     "data": {
      "text/plain": [
       "2736"
      ]
     },
     "execution_count": 13,
     "metadata": {},
     "output_type": "execute_result"
    }
   ],
   "source": [
    "data['data'].shape[0]*24"
   ]
  },
  {
   "cell_type": "code",
   "execution_count": 14,
   "metadata": {},
   "outputs": [],
   "source": [
    "pedidos_final_agg['data']= pedidos_final_agg['data'].astype('datetime64[ns]')"
   ]
  },
  {
   "cell_type": "code",
   "execution_count": 15,
   "metadata": {},
   "outputs": [],
   "source": [
    "temp = pd.DataFrame( pedidos_final_agg['NOME_DIST'].unique(), columns = ['NOME_DIST'] )\n",
    "temp['chave'] = 1\n",
    "data = data.merge(temp , on = 'chave', how='left' )\n",
    "data.drop(columns =['chave'] , inplace=True)\n",
    "data = data.merge(pedidos_final_agg[['data','NOME_DIST','count_orders']] , on = ['data','NOME_DIST'], how='left' )"
   ]
  },
  {
   "cell_type": "code",
   "execution_count": 16,
   "metadata": {},
   "outputs": [],
   "source": [
    "data.sort_values(by=['NOME_DIST','data'] , inplace = True)\n",
    "data.reset_index(drop = True, inplace = True)"
   ]
  },
  {
   "cell_type": "code",
   "execution_count": null,
   "metadata": {},
   "outputs": [],
   "source": []
  },
  {
   "cell_type": "markdown",
   "metadata": {},
   "source": [
    "Mapa de missings da base antes da imputação. As regiões claras indicam registros com dados faltantes."
   ]
  },
  {
   "cell_type": "code",
   "execution_count": 17,
   "metadata": {},
   "outputs": [
    {
     "data": {
      "text/plain": [
       "<AxesSubplot:>"
      ]
     },
     "execution_count": 17,
     "metadata": {},
     "output_type": "execute_result"
    },
    {
     "data": {
      "image/png": "[encoded data removed]",
      "text/plain": [
       "<Figure size 432x288 with 1 Axes>"
      ]
     },
     "metadata": {},
     "output_type": "display_data"
    }
   ],
   "source": [
    "#Mapa de missings da base antes da imputação.\n",
    "sns.heatmap(data.isnull(), cbar=False)"
   ]
  },
  {
   "cell_type": "markdown",
   "metadata": {},
   "source": [
    "Frequência dos dados faltantes"
   ]
  },
  {
   "cell_type": "code",
   "execution_count": 315,
   "metadata": {},
   "outputs": [
    {
     "data": {
      "text/plain": [
       "data              0\n",
       "NOME_DIST         0\n",
       "count_orders    227\n",
       "dtype: int64"
      ]
     },
     "execution_count": 315,
     "metadata": {},
     "output_type": "execute_result"
    }
   ],
   "source": [
    "data.isnull().sum()"
   ]
  },
  {
   "cell_type": "code",
   "execution_count": 317,
   "metadata": {},
   "outputs": [
    {
     "data": {
      "text/plain": [
       "8.296783625730994"
      ]
     },
     "execution_count": 317,
     "metadata": {},
     "output_type": "execute_result"
    }
   ],
   "source": [
    "#Porcentagem de missing\n",
    "227/2736*100"
   ]
  },
  {
   "cell_type": "markdown",
   "metadata": {},
   "source": [
    "### Realizando imputação com a moda de pedidos de cada distrito para os valores faltantes"
   ]
  },
  {
   "cell_type": "code",
   "execution_count": 18,
   "metadata": {},
   "outputs": [],
   "source": [
    "for i in data['NOME_DIST'].unique():\n",
    "    data.loc[(data['NOME_DIST'] == i) & ( data[data['NOME_DIST'] == i]['count_orders'].isnull() ) ,'count_orders'] = data[data['NOME_DIST'] == i]['count_orders'].value_counts().index[0]"
   ]
  },
  {
   "cell_type": "markdown",
   "metadata": {},
   "source": [
    "Mapa de missings da base antes da imputação. As regiões claras indicam registros com dados faltantes."
   ]
  },
  {
   "cell_type": "code",
   "execution_count": 19,
   "metadata": {},
   "outputs": [
    {
     "data": {
      "text/plain": [
       "<AxesSubplot:>"
      ]
     },
     "execution_count": 19,
     "metadata": {},
     "output_type": "execute_result"
    },
    {
     "data": {
      "image/png": "[encoded data removed]",
      "text/plain": [
       "<Figure size 432x288 with 1 Axes>"
      ]
     },
     "metadata": {},
     "output_type": "display_data"
    }
   ],
   "source": [
    "sns.heatmap(data.isnull(), cbar=False)"
   ]
  },
  {
   "cell_type": "markdown",
   "metadata": {},
   "source": [
    "### Criando features"
   ]
  },
  {
   "cell_type": "markdown",
   "metadata": {},
   "source": [
    "<font size=\"3\">  - Features quantidade de pedidos da região defasado, de 1 ate 7 dias: </font>\n"
   ]
  },
  {
   "cell_type": "code",
   "execution_count": 20,
   "metadata": {},
   "outputs": [],
   "source": [
    "for i in range(1,8):\n",
    "    data['count_orders_'+ str(i) +'d'] = data.groupby('NOME_DIST')['count_orders'].shift(i)"
   ]
  },
  {
   "cell_type": "markdown",
   "metadata": {},
   "source": [
    "<font size=\"3\"> Feature Dia da semana: (Segunda=0, Domingo=6)\n",
    "</font>"
   ]
  },
  {
   "cell_type": "code",
   "execution_count": 21,
   "metadata": {},
   "outputs": [],
   "source": [
    "data['weekday'] = data['data'].dt.weekday"
   ]
  },
  {
   "cell_type": "code",
   "execution_count": 22,
   "metadata": {},
   "outputs": [],
   "source": [
    "data = pd.concat( [data , pd.get_dummies( data['weekday'] , prefix='weekday') ], axis = 1)"
   ]
  },
  {
   "cell_type": "markdown",
   "metadata": {},
   "source": [
    "<font size=\"3\"> Flag Final de Semana\n",
    "</font>"
   ]
  },
  {
   "cell_type": "code",
   "execution_count": 23,
   "metadata": {},
   "outputs": [],
   "source": [
    "data['flag_weekend'] = 0\n",
    "data.loc[ data['weekday'].isin([4,5,6]) , 'flag_weekend'] = 1"
   ]
  },
  {
   "cell_type": "code",
   "execution_count": 24,
   "metadata": {},
   "outputs": [
    {
     "data": {
      "text/html": [
       "<div>\n",
       "<style scoped>\n",
       "    .dataframe tbody tr th:only-of-type {\n",
       "        vertical-align: middle;\n",
       "    }\n",
       "\n",
       "    .dataframe tbody tr th {\n",
       "        vertical-align: top;\n",
       "    }\n",
       "\n",
       "    .dataframe thead th {\n",
       "        text-align: right;\n",
       "    }\n",
       "</style>\n",
       "<table border=\"1\" class=\"dataframe\">\n",
       "  <thead>\n",
       "    <tr style=\"text-align: right;\">\n",
       "      <th></th>\n",
       "      <th>count_orders</th>\n",
       "      <th>count_orders_1d</th>\n",
       "      <th>count_orders_2d</th>\n",
       "      <th>count_orders_3d</th>\n",
       "      <th>count_orders_4d</th>\n",
       "      <th>count_orders_5d</th>\n",
       "      <th>count_orders_6d</th>\n",
       "      <th>count_orders_7d</th>\n",
       "      <th>weekday</th>\n",
       "      <th>weekday_0</th>\n",
       "      <th>weekday_1</th>\n",
       "      <th>weekday_2</th>\n",
       "      <th>weekday_3</th>\n",
       "      <th>weekday_4</th>\n",
       "      <th>weekday_5</th>\n",
       "      <th>weekday_6</th>\n",
       "      <th>flag_weekend</th>\n",
       "    </tr>\n",
       "  </thead>\n",
       "  <tbody>\n",
       "    <tr>\n",
       "      <th>count_orders</th>\n",
       "      <td>1.000000</td>\n",
       "      <td>0.783139</td>\n",
       "      <td>0.759610</td>\n",
       "      <td>0.742157</td>\n",
       "      <td>0.740186</td>\n",
       "      <td>0.751955</td>\n",
       "      <td>0.784605</td>\n",
       "      <td>0.803297</td>\n",
       "      <td>0.090781</td>\n",
       "      <td>-0.076956</td>\n",
       "      <td>-0.045631</td>\n",
       "      <td>-0.017829</td>\n",
       "      <td>0.020734</td>\n",
       "      <td>0.087277</td>\n",
       "      <td>0.007820</td>\n",
       "      <td>0.025887</td>\n",
       "      <td>0.085351</td>\n",
       "    </tr>\n",
       "    <tr>\n",
       "      <th>count_orders_1d</th>\n",
       "      <td>0.783139</td>\n",
       "      <td>1.000000</td>\n",
       "      <td>0.782136</td>\n",
       "      <td>0.759858</td>\n",
       "      <td>0.741366</td>\n",
       "      <td>0.739046</td>\n",
       "      <td>0.750721</td>\n",
       "      <td>0.784150</td>\n",
       "      <td>0.060371</td>\n",
       "      <td>0.026310</td>\n",
       "      <td>-0.080975</td>\n",
       "      <td>-0.045622</td>\n",
       "      <td>-0.017664</td>\n",
       "      <td>0.021117</td>\n",
       "      <td>0.088036</td>\n",
       "      <td>0.008130</td>\n",
       "      <td>0.082718</td>\n",
       "    </tr>\n",
       "    <tr>\n",
       "      <th>count_orders_2d</th>\n",
       "      <td>0.759610</td>\n",
       "      <td>0.782136</td>\n",
       "      <td>1.000000</td>\n",
       "      <td>0.782780</td>\n",
       "      <td>0.759846</td>\n",
       "      <td>0.740580</td>\n",
       "      <td>0.737686</td>\n",
       "      <td>0.750322</td>\n",
       "      <td>0.052710</td>\n",
       "      <td>0.008778</td>\n",
       "      <td>0.023461</td>\n",
       "      <td>-0.080767</td>\n",
       "      <td>-0.045239</td>\n",
       "      <td>-0.017143</td>\n",
       "      <td>0.021830</td>\n",
       "      <td>0.089080</td>\n",
       "      <td>0.066303</td>\n",
       "    </tr>\n",
       "    <tr>\n",
       "      <th>count_orders_3d</th>\n",
       "      <td>0.742157</td>\n",
       "      <td>0.759858</td>\n",
       "      <td>0.782780</td>\n",
       "      <td>1.000000</td>\n",
       "      <td>0.783450</td>\n",
       "      <td>0.760379</td>\n",
       "      <td>0.740724</td>\n",
       "      <td>0.738239</td>\n",
       "      <td>-0.055923</td>\n",
       "      <td>0.089892</td>\n",
       "      <td>0.006681</td>\n",
       "      <td>0.023960</td>\n",
       "      <td>-0.080767</td>\n",
       "      <td>-0.045069</td>\n",
       "      <td>-0.016838</td>\n",
       "      <td>0.022320</td>\n",
       "      <td>-0.028066</td>\n",
       "    </tr>\n",
       "    <tr>\n",
       "      <th>count_orders_4d</th>\n",
       "      <td>0.740186</td>\n",
       "      <td>0.741366</td>\n",
       "      <td>0.759846</td>\n",
       "      <td>0.783450</td>\n",
       "      <td>1.000000</td>\n",
       "      <td>0.784878</td>\n",
       "      <td>0.758871</td>\n",
       "      <td>0.741726</td>\n",
       "      <td>-0.079948</td>\n",
       "      <td>0.024362</td>\n",
       "      <td>0.082462</td>\n",
       "      <td>0.008480</td>\n",
       "      <td>0.026019</td>\n",
       "      <td>-0.079882</td>\n",
       "      <td>-0.043784</td>\n",
       "      <td>-0.015236</td>\n",
       "      <td>-0.098746</td>\n",
       "    </tr>\n",
       "    <tr>\n",
       "      <th>count_orders_5d</th>\n",
       "      <td>0.751955</td>\n",
       "      <td>0.739046</td>\n",
       "      <td>0.740580</td>\n",
       "      <td>0.760379</td>\n",
       "      <td>0.784878</td>\n",
       "      <td>1.000000</td>\n",
       "      <td>0.784914</td>\n",
       "      <td>0.757786</td>\n",
       "      <td>-0.061913</td>\n",
       "      <td>-0.015494</td>\n",
       "      <td>0.026231</td>\n",
       "      <td>0.082718</td>\n",
       "      <td>0.008353</td>\n",
       "      <td>0.025977</td>\n",
       "      <td>-0.080478</td>\n",
       "      <td>-0.044191</td>\n",
       "      <td>-0.070355</td>\n",
       "    </tr>\n",
       "    <tr>\n",
       "      <th>count_orders_6d</th>\n",
       "      <td>0.784605</td>\n",
       "      <td>0.750721</td>\n",
       "      <td>0.737686</td>\n",
       "      <td>0.740724</td>\n",
       "      <td>0.758871</td>\n",
       "      <td>0.784914</td>\n",
       "      <td>1.000000</td>\n",
       "      <td>0.785047</td>\n",
       "      <td>-0.006121</td>\n",
       "      <td>-0.043897</td>\n",
       "      <td>-0.019905</td>\n",
       "      <td>0.027062</td>\n",
       "      <td>0.083997</td>\n",
       "      <td>0.009042</td>\n",
       "      <td>0.026832</td>\n",
       "      <td>-0.080474</td>\n",
       "      <td>-0.032130</td>\n",
       "    </tr>\n",
       "    <tr>\n",
       "      <th>count_orders_7d</th>\n",
       "      <td>0.803297</td>\n",
       "      <td>0.784150</td>\n",
       "      <td>0.750322</td>\n",
       "      <td>0.738239</td>\n",
       "      <td>0.741726</td>\n",
       "      <td>0.757786</td>\n",
       "      <td>0.785047</td>\n",
       "      <td>1.000000</td>\n",
       "      <td>0.092384</td>\n",
       "      <td>-0.081381</td>\n",
       "      <td>-0.042263</td>\n",
       "      <td>-0.020497</td>\n",
       "      <td>0.026695</td>\n",
       "      <td>0.083903</td>\n",
       "      <td>0.008589</td>\n",
       "      <td>0.026446</td>\n",
       "      <td>0.083914</td>\n",
       "    </tr>\n",
       "    <tr>\n",
       "      <th>weekday</th>\n",
       "      <td>0.090781</td>\n",
       "      <td>0.060371</td>\n",
       "      <td>0.052710</td>\n",
       "      <td>-0.055923</td>\n",
       "      <td>-0.079948</td>\n",
       "      <td>-0.061913</td>\n",
       "      <td>-0.006121</td>\n",
       "      <td>0.092384</td>\n",
       "      <td>1.000000</td>\n",
       "      <td>-0.621183</td>\n",
       "      <td>-0.399702</td>\n",
       "      <td>-0.199851</td>\n",
       "      <td>0.000000</td>\n",
       "      <td>0.199851</td>\n",
       "      <td>0.399702</td>\n",
       "      <td>0.621183</td>\n",
       "      <td>0.867641</td>\n",
       "    </tr>\n",
       "    <tr>\n",
       "      <th>weekday_0</th>\n",
       "      <td>-0.076956</td>\n",
       "      <td>0.026310</td>\n",
       "      <td>0.008778</td>\n",
       "      <td>0.089892</td>\n",
       "      <td>0.024362</td>\n",
       "      <td>-0.015494</td>\n",
       "      <td>-0.043897</td>\n",
       "      <td>-0.081381</td>\n",
       "      <td>-0.621183</td>\n",
       "      <td>1.000000</td>\n",
       "      <td>-0.169155</td>\n",
       "      <td>-0.169155</td>\n",
       "      <td>-0.169155</td>\n",
       "      <td>-0.169155</td>\n",
       "      <td>-0.169155</td>\n",
       "      <td>-0.175258</td>\n",
       "      <td>-0.363480</td>\n",
       "    </tr>\n",
       "    <tr>\n",
       "      <th>weekday_1</th>\n",
       "      <td>-0.045631</td>\n",
       "      <td>-0.080975</td>\n",
       "      <td>0.023461</td>\n",
       "      <td>0.006681</td>\n",
       "      <td>0.082462</td>\n",
       "      <td>0.026231</td>\n",
       "      <td>-0.019905</td>\n",
       "      <td>-0.042263</td>\n",
       "      <td>-0.399702</td>\n",
       "      <td>-0.169155</td>\n",
       "      <td>1.000000</td>\n",
       "      <td>-0.163265</td>\n",
       "      <td>-0.163265</td>\n",
       "      <td>-0.163265</td>\n",
       "      <td>-0.163265</td>\n",
       "      <td>-0.169155</td>\n",
       "      <td>-0.350823</td>\n",
       "    </tr>\n",
       "    <tr>\n",
       "      <th>weekday_2</th>\n",
       "      <td>-0.017829</td>\n",
       "      <td>-0.045622</td>\n",
       "      <td>-0.080767</td>\n",
       "      <td>0.023960</td>\n",
       "      <td>0.008480</td>\n",
       "      <td>0.082718</td>\n",
       "      <td>0.027062</td>\n",
       "      <td>-0.020497</td>\n",
       "      <td>-0.199851</td>\n",
       "      <td>-0.169155</td>\n",
       "      <td>-0.163265</td>\n",
       "      <td>1.000000</td>\n",
       "      <td>-0.163265</td>\n",
       "      <td>-0.163265</td>\n",
       "      <td>-0.163265</td>\n",
       "      <td>-0.169155</td>\n",
       "      <td>-0.350823</td>\n",
       "    </tr>\n",
       "    <tr>\n",
       "      <th>weekday_3</th>\n",
       "      <td>0.020734</td>\n",
       "      <td>-0.017664</td>\n",
       "      <td>-0.045239</td>\n",
       "      <td>-0.080767</td>\n",
       "      <td>0.026019</td>\n",
       "      <td>0.008353</td>\n",
       "      <td>0.083997</td>\n",
       "      <td>0.026695</td>\n",
       "      <td>0.000000</td>\n",
       "      <td>-0.169155</td>\n",
       "      <td>-0.163265</td>\n",
       "      <td>-0.163265</td>\n",
       "      <td>1.000000</td>\n",
       "      <td>-0.163265</td>\n",
       "      <td>-0.163265</td>\n",
       "      <td>-0.169155</td>\n",
       "      <td>-0.350823</td>\n",
       "    </tr>\n",
       "    <tr>\n",
       "      <th>weekday_4</th>\n",
       "      <td>0.087277</td>\n",
       "      <td>0.021117</td>\n",
       "      <td>-0.017143</td>\n",
       "      <td>-0.045069</td>\n",
       "      <td>-0.079882</td>\n",
       "      <td>0.025977</td>\n",
       "      <td>0.009042</td>\n",
       "      <td>0.083903</td>\n",
       "      <td>0.199851</td>\n",
       "      <td>-0.169155</td>\n",
       "      <td>-0.163265</td>\n",
       "      <td>-0.163265</td>\n",
       "      <td>-0.163265</td>\n",
       "      <td>1.000000</td>\n",
       "      <td>-0.163265</td>\n",
       "      <td>-0.169155</td>\n",
       "      <td>0.465378</td>\n",
       "    </tr>\n",
       "    <tr>\n",
       "      <th>weekday_5</th>\n",
       "      <td>0.007820</td>\n",
       "      <td>0.088036</td>\n",
       "      <td>0.021830</td>\n",
       "      <td>-0.016838</td>\n",
       "      <td>-0.043784</td>\n",
       "      <td>-0.080478</td>\n",
       "      <td>0.026832</td>\n",
       "      <td>0.008589</td>\n",
       "      <td>0.399702</td>\n",
       "      <td>-0.169155</td>\n",
       "      <td>-0.163265</td>\n",
       "      <td>-0.163265</td>\n",
       "      <td>-0.163265</td>\n",
       "      <td>-0.163265</td>\n",
       "      <td>1.000000</td>\n",
       "      <td>-0.169155</td>\n",
       "      <td>0.465378</td>\n",
       "    </tr>\n",
       "    <tr>\n",
       "      <th>weekday_6</th>\n",
       "      <td>0.025887</td>\n",
       "      <td>0.008130</td>\n",
       "      <td>0.089080</td>\n",
       "      <td>0.022320</td>\n",
       "      <td>-0.015236</td>\n",
       "      <td>-0.044191</td>\n",
       "      <td>-0.080474</td>\n",
       "      <td>0.026446</td>\n",
       "      <td>0.621183</td>\n",
       "      <td>-0.175258</td>\n",
       "      <td>-0.169155</td>\n",
       "      <td>-0.169155</td>\n",
       "      <td>-0.169155</td>\n",
       "      <td>-0.169155</td>\n",
       "      <td>-0.169155</td>\n",
       "      <td>1.000000</td>\n",
       "      <td>0.482167</td>\n",
       "    </tr>\n",
       "    <tr>\n",
       "      <th>flag_weekend</th>\n",
       "      <td>0.085351</td>\n",
       "      <td>0.082718</td>\n",
       "      <td>0.066303</td>\n",
       "      <td>-0.028066</td>\n",
       "      <td>-0.098746</td>\n",
       "      <td>-0.070355</td>\n",
       "      <td>-0.032130</td>\n",
       "      <td>0.083914</td>\n",
       "      <td>0.867641</td>\n",
       "      <td>-0.363480</td>\n",
       "      <td>-0.350823</td>\n",
       "      <td>-0.350823</td>\n",
       "      <td>-0.350823</td>\n",
       "      <td>0.465378</td>\n",
       "      <td>0.465378</td>\n",
       "      <td>0.482167</td>\n",
       "      <td>1.000000</td>\n",
       "    </tr>\n",
       "  </tbody>\n",
       "</table>\n",
       "</div>"
      ],
      "text/plain": [
       "                 count_orders  count_orders_1d  count_orders_2d  \\\n",
       "count_orders         1.000000         0.783139         0.759610   \n",
       "count_orders_1d      0.783139         1.000000         0.782136   \n",
       "count_orders_2d      0.759610         0.782136         1.000000   \n",
       "count_orders_3d      0.742157         0.759858         0.782780   \n",
       "count_orders_4d      0.740186         0.741366         0.759846   \n",
       "count_orders_5d      0.751955         0.739046         0.740580   \n",
       "count_orders_6d      0.784605         0.750721         0.737686   \n",
       "count_orders_7d      0.803297         0.784150         0.750322   \n",
       "weekday              0.090781         0.060371         0.052710   \n",
       "weekday_0           -0.076956         0.026310         0.008778   \n",
       "weekday_1           -0.045631        -0.080975         0.023461   \n",
       "weekday_2           -0.017829        -0.045622        -0.080767   \n",
       "weekday_3            0.020734        -0.017664        -0.045239   \n",
       "weekday_4            0.087277         0.021117        -0.017143   \n",
       "weekday_5            0.007820         0.088036         0.021830   \n",
       "weekday_6            0.025887         0.008130         0.089080   \n",
       "flag_weekend         0.085351         0.082718         0.066303   \n",
       "\n",
       "                 count_orders_3d  count_orders_4d  count_orders_5d  \\\n",
       "count_orders            0.742157         0.740186         0.751955   \n",
       "count_orders_1d         0.759858         0.741366         0.739046   \n",
       "count_orders_2d         0.782780         0.759846         0.740580   \n",
       "count_orders_3d         1.000000         0.783450         0.760379   \n",
       "count_orders_4d         0.783450         1.000000         0.784878   \n",
       "count_orders_5d         0.760379         0.784878         1.000000   \n",
       "count_orders_6d         0.740724         0.758871         0.784914   \n",
       "count_orders_7d         0.738239         0.741726         0.757786   \n",
       "weekday                -0.055923        -0.079948        -0.061913   \n",
       "weekday_0               0.089892         0.024362        -0.015494   \n",
       "weekday_1               0.006681         0.082462         0.026231   \n",
       "weekday_2               0.023960         0.008480         0.082718   \n",
       "weekday_3              -0.080767         0.026019         0.008353   \n",
       "weekday_4              -0.045069        -0.079882         0.025977   \n",
       "weekday_5              -0.016838        -0.043784        -0.080478   \n",
       "weekday_6               0.022320        -0.015236        -0.044191   \n",
       "flag_weekend           -0.028066        -0.098746        -0.070355   \n",
       "\n",
       "                 count_orders_6d  count_orders_7d   weekday  weekday_0  \\\n",
       "count_orders            0.784605         0.803297  0.090781  -0.076956   \n",
       "count_orders_1d         0.750721         0.784150  0.060371   0.026310   \n",
       "count_orders_2d         0.737686         0.750322  0.052710   0.008778   \n",
       "count_orders_3d         0.740724         0.738239 -0.055923   0.089892   \n",
       "count_orders_4d         0.758871         0.741726 -0.079948   0.024362   \n",
       "count_orders_5d         0.784914         0.757786 -0.061913  -0.015494   \n",
       "count_orders_6d         1.000000         0.785047 -0.006121  -0.043897   \n",
       "count_orders_7d         0.785047         1.000000  0.092384  -0.081381   \n",
       "weekday                -0.006121         0.092384  1.000000  -0.621183   \n",
       "weekday_0              -0.043897        -0.081381 -0.621183   1.000000   \n",
       "weekday_1              -0.019905        -0.042263 -0.399702  -0.169155   \n",
       "weekday_2               0.027062        -0.020497 -0.199851  -0.169155   \n",
       "weekday_3               0.083997         0.026695  0.000000  -0.169155   \n",
       "weekday_4               0.009042         0.083903  0.199851  -0.169155   \n",
       "weekday_5               0.026832         0.008589  0.399702  -0.169155   \n",
       "weekday_6              -0.080474         0.026446  0.621183  -0.175258   \n",
       "flag_weekend           -0.032130         0.083914  0.867641  -0.363480   \n",
       "\n",
       "                 weekday_1  weekday_2  weekday_3  weekday_4  weekday_5  \\\n",
       "count_orders     -0.045631  -0.017829   0.020734   0.087277   0.007820   \n",
       "count_orders_1d  -0.080975  -0.045622  -0.017664   0.021117   0.088036   \n",
       "count_orders_2d   0.023461  -0.080767  -0.045239  -0.017143   0.021830   \n",
       "count_orders_3d   0.006681   0.023960  -0.080767  -0.045069  -0.016838   \n",
       "count_orders_4d   0.082462   0.008480   0.026019  -0.079882  -0.043784   \n",
       "count_orders_5d   0.026231   0.082718   0.008353   0.025977  -0.080478   \n",
       "count_orders_6d  -0.019905   0.027062   0.083997   0.009042   0.026832   \n",
       "count_orders_7d  -0.042263  -0.020497   0.026695   0.083903   0.008589   \n",
       "weekday          -0.399702  -0.199851   0.000000   0.199851   0.399702   \n",
       "weekday_0        -0.169155  -0.169155  -0.169155  -0.169155  -0.169155   \n",
       "weekday_1         1.000000  -0.163265  -0.163265  -0.163265  -0.163265   \n",
       "weekday_2        -0.163265   1.000000  -0.163265  -0.163265  -0.163265   \n",
       "weekday_3        -0.163265  -0.163265   1.000000  -0.163265  -0.163265   \n",
       "weekday_4        -0.163265  -0.163265  -0.163265   1.000000  -0.163265   \n",
       "weekday_5        -0.163265  -0.163265  -0.163265  -0.163265   1.000000   \n",
       "weekday_6        -0.169155  -0.169155  -0.169155  -0.169155  -0.169155   \n",
       "flag_weekend     -0.350823  -0.350823  -0.350823   0.465378   0.465378   \n",
       "\n",
       "                 weekday_6  flag_weekend  \n",
       "count_orders      0.025887      0.085351  \n",
       "count_orders_1d   0.008130      0.082718  \n",
       "count_orders_2d   0.089080      0.066303  \n",
       "count_orders_3d   0.022320     -0.028066  \n",
       "count_orders_4d  -0.015236     -0.098746  \n",
       "count_orders_5d  -0.044191     -0.070355  \n",
       "count_orders_6d  -0.080474     -0.032130  \n",
       "count_orders_7d   0.026446      0.083914  \n",
       "weekday           0.621183      0.867641  \n",
       "weekday_0        -0.175258     -0.363480  \n",
       "weekday_1        -0.169155     -0.350823  \n",
       "weekday_2        -0.169155     -0.350823  \n",
       "weekday_3        -0.169155     -0.350823  \n",
       "weekday_4        -0.169155      0.465378  \n",
       "weekday_5        -0.169155      0.465378  \n",
       "weekday_6         1.000000      0.482167  \n",
       "flag_weekend      0.482167      1.000000  "
      ]
     },
     "execution_count": 24,
     "metadata": {},
     "output_type": "execute_result"
    }
   ],
   "source": [
    "data.corr(method='pearson')"
   ]
  },
  {
   "cell_type": "code",
   "execution_count": 25,
   "metadata": {},
   "outputs": [],
   "source": [
    "#Filtrando apenas os meses que serão usados para ajuste/treino dos modelos\n",
    "data_model = data[ (data['data'].dt.month).isin( [7,8,9] ) ]"
   ]
  },
  {
   "cell_type": "code",
   "execution_count": 26,
   "metadata": {},
   "outputs": [
    {
     "name": "stderr",
     "output_type": "stream",
     "text": [
      "C:\\Users\\Herlisson\\Anaconda3\\lib\\site-packages\\pysal\\lib\\weights\\weights.py:170: UserWarning: The weights matrix is not fully connected. There are 92 components\n",
      "  warnings.warn(\"The weights matrix is not fully connected. There are %d components\" % self.n_components)\n"
     ]
    }
   ],
   "source": [
    "#Montagem da matriz de pesos aumentada para treino do SAR\n",
    "distritos_ce = distritos_ce.sort_values(by='NOME_DIST').reset_index(drop=True )\n",
    "wq = weights.contiguity.Queen.from_dataframe(distritos_ce)\n",
    "wq.transform = 'R'\n",
    "\n",
    "days = 92\n",
    "matriz = {}\n",
    "j=0\n",
    "for j in range(0, max( wq.neighbors.keys() ) +1):\n",
    "    for i in range(0 , days):\n",
    "        matriz[ i + j * days ] = [ x * days + i for x in wq.neighbors[ j ] ]\n",
    "        \n",
    "wq_model2 = weights.W(matriz)\n",
    "wq_model2.transform = 'R'"
   ]
  },
  {
   "cell_type": "code",
   "execution_count": 27,
   "metadata": {},
   "outputs": [],
   "source": [
    "data_test = data[(data['data'] >= '2019-10-01') & (data['data'] <= '2019-10-07')].reset_index( drop = True )"
   ]
  },
  {
   "cell_type": "code",
   "execution_count": 28,
   "metadata": {},
   "outputs": [],
   "source": [
    "data_valid = data[(data['data'] >= '2019-10-08') & (data['data'] <= '2019-10-14')].reset_index( drop = True )"
   ]
  },
  {
   "cell_type": "markdown",
   "metadata": {},
   "source": [
    "Modelo teste de regressão linear comum"
   ]
  },
  {
   "cell_type": "code",
   "execution_count": 261,
   "metadata": {},
   "outputs": [],
   "source": [
    "#Variaveis que serão utilizadas para treinar os modelos: seleção feita com filtro por corrleção\n",
    "variable_names = [ 'count_orders_7d' ]"
   ]
  },
  {
   "cell_type": "code",
   "execution_count": 262,
   "metadata": {},
   "outputs": [
    {
     "name": "stdout",
     "output_type": "stream",
     "text": [
      "REGRESSION\n",
      "----------\n",
      "SUMMARY OF OUTPUT: ORDINARY LEAST SQUARES\n",
      "-----------------------------------------\n",
      "Data set            :     unknown\n",
      "Weights matrix      :     unknown\n",
      "Dependent Variable  :count_orders                Number of Observations:        2208\n",
      "Mean dependent var  :      6.9112                Number of Variables   :           2\n",
      "S.D. dependent var  :      5.7524                Degrees of Freedom    :        2206\n",
      "R-squared           :      0.6418\n",
      "Adjusted R-squared  :      0.6417\n",
      "Sum squared residual:   26156.431                F-statistic           :   3953.1390\n",
      "Sigma-square        :      11.857                Prob(F-statistic)     :           0\n",
      "S.E. of regression  :       3.443                Log likelihood        :   -5862.113\n",
      "Sigma-square ML     :      11.846                Akaike info criterion :   11728.226\n",
      "S.E of regression ML:      3.4418                Schwarz criterion     :   11739.626\n",
      "\n",
      "------------------------------------------------------------------------------------\n",
      "            Variable     Coefficient       Std.Error     t-Statistic     Probability\n",
      "------------------------------------------------------------------------------------\n",
      "            CONSTANT       1.3882910       0.1143945      12.1359903       0.0000000\n",
      "     count_orders_7d       0.7884304       0.0125398      62.8739932       0.0000000\n",
      "------------------------------------------------------------------------------------\n",
      "\n",
      "REGRESSION DIAGNOSTICS\n",
      "MULTICOLLINEARITY CONDITION NUMBER            2.760\n",
      "\n",
      "TEST ON NORMALITY OF ERRORS\n",
      "TEST                             DF        VALUE           PROB\n",
      "Jarque-Bera                       2         748.667           0.0000\n",
      "\n",
      "DIAGNOSTICS FOR HETEROSKEDASTICITY\n",
      "RANDOM COEFFICIENTS\n",
      "TEST                             DF        VALUE           PROB\n",
      "Breusch-Pagan test                1         603.623           0.0000\n",
      "Koenker-Bassett test              1         273.892           0.0000\n",
      "================================ END OF REPORT =====================================\n"
     ]
    }
   ],
   "source": [
    "reg_OLS = spreg.OLS(data_model[['count_orders']].values, \n",
    "    data_model[variable_names].values,\n",
    "    w=wq_model2, \n",
    "    name_y='count_orders', \n",
    "    name_x=variable_names\n",
    ")\n",
    "print(reg_OLS.summary)"
   ]
  },
  {
   "cell_type": "markdown",
   "metadata": {},
   "source": [
    "---\n",
    "## Ajuste do modelo SAR <a name=\"ajuste-sar\"></a>"
   ]
  },
  {
   "cell_type": "code",
   "execution_count": 263,
   "metadata": {},
   "outputs": [
    {
     "name": "stdout",
     "output_type": "stream",
     "text": [
      "REGRESSION\n",
      "----------\n",
      "SUMMARY OF OUTPUT: MAXIMUM LIKELIHOOD SPATIAL LAG (METHOD = FULL)\n",
      "-----------------------------------------------------------------\n",
      "Data set            :     unknown\n",
      "Weights matrix      :     unknown\n",
      "Dependent Variable  :count_orders                Number of Observations:        2208\n",
      "Mean dependent var  :      6.9112                Number of Variables   :           3\n",
      "S.D. dependent var  :      5.7524                Degrees of Freedom    :        2205\n",
      "Pseudo R-squared    :      0.6632\n",
      "Spatial Pseudo R-squared:  0.6572\n",
      "Sigma-square ML     :      11.139                Log likelihood        :   -5805.009\n",
      "S.E of regression   :       3.337                Akaike info criterion :   11616.018\n",
      "                                                 Schwarz criterion     :   11633.118\n",
      "\n",
      "------------------------------------------------------------------------------------\n",
      "            Variable     Coefficient       Std.Error     z-Statistic     Probability\n",
      "------------------------------------------------------------------------------------\n",
      "            CONSTANT       0.4748542       0.1416638       3.3519797       0.0008024\n",
      "     count_orders_7d       0.7057777       0.0141382      49.9198179       0.0000000\n",
      "      W_count_orders       0.2074676       0.0196319      10.5679060       0.0000000\n",
      "------------------------------------------------------------------------------------\n",
      "================================ END OF REPORT =====================================\n"
     ]
    }
   ],
   "source": [
    "reg2 = spreg.ML_Lag(\n",
    "    data_model[['count_orders']].values, \n",
    "    data_model[variable_names].values,\n",
    "    w=wq_model2, \n",
    "    name_y='count_orders', \n",
    "    name_x=variable_names\n",
    ")\n",
    "print(reg2.summary)"
   ]
  },
  {
   "cell_type": "code",
   "execution_count": null,
   "metadata": {},
   "outputs": [],
   "source": []
  },
  {
   "cell_type": "code",
   "execution_count": null,
   "metadata": {},
   "outputs": [],
   "source": []
  },
  {
   "cell_type": "markdown",
   "metadata": {},
   "source": [
    "Calculando a média histórica na base de treino para utilizar como baseline"
   ]
  },
  {
   "cell_type": "code",
   "execution_count": 837,
   "metadata": {},
   "outputs": [],
   "source": [
    "preds_media_historica = data_model[['data','NOME_DIST']]\n",
    "preds_media_historica['pred'] = data_model.mean()['count_orders']"
   ]
  },
  {
   "cell_type": "markdown",
   "metadata": {},
   "source": [
    "Predicted Value\n",
    "• predicted value from structural form is not valid\n",
    "(assumes knowledge of Wy)\n",
    "\n",
    "• $E[y | X] \\neq \\rho Wy + X$\n",
    "\n",
    "Use reduced form instead:\n",
    "\n",
    "• $E[y | X] = (I - \\rho W)^{-1} X\\beta $ "
   ]
  },
  {
   "cell_type": "code",
   "execution_count": 63,
   "metadata": {},
   "outputs": [],
   "source": []
  },
  {
   "cell_type": "code",
   "execution_count": 274,
   "metadata": {},
   "outputs": [],
   "source": [
    "def predict_sar( reg2 , data_test2 , variable_names , wq):\n",
    "    wq_dim = len(wq.neighbors)\n",
    "    data_test = data_test2.copy()\n",
    "    data_test.sort_values(by = ['data','NOME_DIST'] , inplace = True)\n",
    "    data_test.reset_index(drop=True , inplace = True)\n",
    "\n",
    "    df_final = data_test[['data','NOME_DIST','count_orders']]\n",
    "\n",
    "    for dt in df_final['data'].unique() :\n",
    "        xb = np.matmul(pd.concat([pd.Series(np.ones( wq_dim )) , data_test[data_test['data'] == dt][variable_names].reset_index(drop=True) , pd.Series(np.ones(wq_dim)) ],axis=1 ).to_numpy(),reg2.betas  )\n",
    "        #xb = np.matmul(pd.concat([pd.Series(np.ones(wq_dim)) , data_test[data_test['data'] == dt][variable_names].reset_index(drop=True) ],axis=1 ).to_numpy() , reg2.betas[:-1]  )\n",
    "        pred = np.matmul( np.linalg.inv( np.identity( wq_dim ) - reg2.rho * wq.full()[0] ) , xb)\n",
    "\n",
    "        df_final.loc[df_final['data'] == dt, 'pred'] = pred\n",
    "        \n",
    "    return df_final"
   ]
  },
  {
   "cell_type": "code",
   "execution_count": 265,
   "metadata": {},
   "outputs": [],
   "source": [
    "def predict_ols( reg2 , data_test2 , variable_names , wq):\n",
    "    wq_dim = len(wq.neighbors)\n",
    "    data_test = data_test2.copy()\n",
    "    data_test.sort_values(by = ['data','NOME_DIST'] , inplace = True)\n",
    "    data_test.reset_index(drop=True , inplace = True)\n",
    "\n",
    "    df_final = data_test[['data','NOME_DIST']]\n",
    "\n",
    "    for dt in df_final['data'].unique() :\n",
    "        #xb = np.matmul(pd.concat([pd.Series(np.ones( wq_dim )) , data_test[data_test['data'] == dt][variable_names].reset_index(drop=True) , pd.Series(np.ones(wq_dim)) ],axis=1 ).to_numpy(),reg2.betas  )\n",
    "        pred = np.matmul(pd.concat([pd.Series(np.ones(wq_dim)) , data_test[data_test['data'] == dt][variable_names].reset_index(drop=True) ],axis=1 ).to_numpy() , reg2.betas  )\n",
    "\n",
    "        df_final.loc[df_final['data'] == dt, 'pred'] = pred\n",
    "        \n",
    "    return df_final"
   ]
  },
  {
   "cell_type": "code",
   "execution_count": 840,
   "metadata": {},
   "outputs": [],
   "source": [
    "preds_train_ols = predict_ols( reg_OLS , data_model , variable_names , wq ).sort_values(by=['NOME_DIST','data'])"
   ]
  },
  {
   "cell_type": "code",
   "execution_count": 841,
   "metadata": {},
   "outputs": [],
   "source": [
    "preds_train_sar = predict_sar( reg2 , data_model , variable_names , wq ).sort_values(by=['NOME_DIST','data'])"
   ]
  },
  {
   "cell_type": "code",
   "execution_count": 95,
   "metadata": {},
   "outputs": [
    {
     "data": {
      "text/plain": [
       "3.4407870828051963"
      ]
     },
     "execution_count": 95,
     "metadata": {},
     "output_type": "execute_result"
    }
   ],
   "source": [
    "mean_squared_error(data_model['count_orders'] , preds_train_ols['pred']) ** 0.5"
   ]
  },
  {
   "cell_type": "markdown",
   "metadata": {},
   "source": [
    "#### Calculo das métricas da avaliação <a name=\"desempenho-sar\"></a>"
   ]
  },
  {
   "cell_type": "markdown",
   "metadata": {},
   "source": [
    "Calculo do RMSE e R2 para base de treino"
   ]
  },
  {
   "cell_type": "code",
   "execution_count": 110,
   "metadata": {},
   "outputs": [
    {
     "name": "stdout",
     "output_type": "stream",
     "text": [
      "\n",
      "Historic Mean RMSE: 5.748\n",
      "Historic Mean R2: 0.0 \n",
      "SAR RMSE: 3.375\n",
      "SAR R2: 0.655 \n",
      "OLS RMSE: 3.441\n",
      "OLS R2:  0.642\n",
      "\n"
     ]
    }
   ],
   "source": [
    "print(\n",
    "f\"\"\"\n",
    "Historic Mean RMSE: {round(mean_squared_error(data_model['count_orders'] , preds_media_historica['pred'])**0.5 , 3 ) }\n",
    "Historic Mean R2: {round(r2_score(data_model['count_orders'] , preds_media_historica['pred']),3)} \n",
    "SAR RMSE: {round(mean_squared_error(data_model['count_orders'] , preds_train_sar['pred'])**0.5 , 3 ) }\n",
    "SAR R2: {round(r2_score(data_model['count_orders'] , preds_train_sar['pred']),3)} \n",
    "OLS RMSE: {round( mean_squared_error(data_model['count_orders'] , preds_train_ols['pred'])**0.5 , 3 )}\n",
    "OLS R2:  {round(r2_score(data_model['count_orders'] , preds_train_ols['pred']),3)}\\n\"\"\"\n",
    "     )"
   ]
  },
  {
   "cell_type": "markdown",
   "metadata": {},
   "source": [
    "Calculo do RMSE e R2 para base de Teste"
   ]
  },
  {
   "cell_type": "code",
   "execution_count": 868,
   "metadata": {},
   "outputs": [],
   "source": [
    "preds_test_media_historica = data_test[['data','NOME_DIST']]\n",
    "preds_test_media_historica['pred'] = data_model.mean()['count_orders']"
   ]
  },
  {
   "cell_type": "code",
   "execution_count": 843,
   "metadata": {},
   "outputs": [],
   "source": [
    "preds_test_ols = predict_ols( reg_OLS , data_test , variable_names , wq ).sort_values(by=['NOME_DIST','data']).reset_index(drop=True)\n",
    "preds_test_sar = predict_sar( reg2 , data_test , variable_names , wq ).sort_values(by=['NOME_DIST','data']).reset_index(drop=True)"
   ]
  },
  {
   "cell_type": "code",
   "execution_count": 844,
   "metadata": {},
   "outputs": [
    {
     "name": "stdout",
     "output_type": "stream",
     "text": [
      "\n",
      "Historic Mean RMSE: 5.5891\n",
      "Historic Mean R2: -0.0032 \n",
      "SAR RMSE: 3.125\n",
      "SAR R2: 0.686 \n",
      "OLS RMSE: 3.28\n",
      "OLS R2:  0.655\n",
      "\n"
     ]
    }
   ],
   "source": [
    "print(\n",
    "f\"\"\"\n",
    "Historic Mean RMSE: {round(mean_squared_error(data_test['count_orders'] , preds_test_media_historica['pred'])**0.5 , 4 ) }\n",
    "Historic Mean R2: {round(r2_score(data_test['count_orders'] , preds_test_media_historica['pred']),4)} \n",
    "SAR RMSE: {round(mean_squared_error(data_test['count_orders'] , preds_test_sar['pred'])**0.5 , 3 ) }\n",
    "SAR R2: {round(r2_score(data_test['count_orders'] , preds_test_sar['pred']),3)} \n",
    "OLS RMSE: {round( mean_squared_error(data_test['count_orders'] , preds_test_ols['pred'])**0.5 , 3 )}\n",
    "OLS R2:  {round(r2_score(data_test['co/unt_orders'] , preds_test_ols['pred']),3)}\\n\"\"\"\n",
    "     )"
   ]
  },
  {
   "cell_type": "code",
   "execution_count": 120,
   "metadata": {},
   "outputs": [
    {
     "name": "stdout",
     "output_type": "stream",
     "text": [
      "\n",
      "Historic Mean RMSE: 5.5889\n",
      "Historic Mean R2: -0.0031 \n",
      "SAR RMSE: 3.126\n",
      "SAR R2: 0.686 \n",
      "OLS RMSE: 3.28\n",
      "OLS R2:  0.655\n",
      "\n"
     ]
    }
   ],
   "source": [
    "print(\n",
    "f\"\"\"\n",
    "Historic Mean RMSE: {round(mean_squared_error(data_test['count_orders'] , preds_test_media_historica['pred'])**0.5 , 4 ) }\n",
    "Historic Mean R2: {round(r2_score(data_test['count_orders'] , preds_test_media_historica['pred']),4)} \n",
    "SAR RMSE: {round(mean_squared_error(data_test['count_orders'] , preds_test_sar['pred'])**0.5 , 3 ) }\n",
    "SAR R2: {round(r2_score(data_test['count_orders'] , preds_test_sar['pred']),3)} \n",
    "OLS RMSE: {round( mean_squared_error(data_test['count_orders'] , preds_test_ols['pred'])**0.5 , 3 )}\n",
    "OLS R2:  {round(r2_score(data_test['count_orders'] , preds_test_ols['pred']),3)}\\n\"\"\"\n",
    "     )"
   ]
  },
  {
   "cell_type": "code",
   "execution_count": 869,
   "metadata": {},
   "outputs": [],
   "source": [
    "preds_valid_media_historica = data_valid[['data','NOME_DIST','count_orders']]\n",
    "preds_valid_media_historica['pred'] = data_model.mean()['count_orders']"
   ]
  },
  {
   "cell_type": "code",
   "execution_count": 275,
   "metadata": {},
   "outputs": [],
   "source": [
    "preds_valid_ols = predict_ols( reg_OLS , data_valid , variable_names , wq ).sort_values( by=['NOME_DIST','data'] ).reset_index(drop=True)\n",
    "preds_valid_sar = predict_sar( reg2 , data_valid , variable_names , wq ).sort_values(by=['NOME_DIST','data']).reset_index(drop=True)"
   ]
  },
  {
   "cell_type": "code",
   "execution_count": 873,
   "metadata": {},
   "outputs": [
    {
     "name": "stdout",
     "output_type": "stream",
     "text": [
      "\n",
      "Historic Mean RMSE: 6.5165\n",
      "Historic Mean R2: -0.0173 \n",
      "SAR RMSE: 3.604\n",
      "SAR R2: 0.689 \n",
      "OLS RMSE: 3.811\n",
      "OLS R2:  0.652\n",
      "\n"
     ]
    }
   ],
   "source": [
    "print(\n",
    "f\"\"\"\n",
    "Historic Mean RMSE: {round(mean_squared_error(data_valid['count_orders'] , preds_valid_media_historica['pred'])**0.5 , 4 ) }\n",
    "Historic Mean R2: {round(r2_score(data_valid['count_orders'] , preds_valid_media_historica['pred']),4)} \n",
    "SAR RMSE: {round(mean_squared_error(data_valid['count_orders'] , preds_valid_sar['pred'])**0.5 , 3 ) }\n",
    "SAR R2: {round(r2_score(data_valid['count_orders'] , preds_valid_sar['pred']),3)} \n",
    "OLS RMSE: {round( mean_squared_error(data_valid['count_orders'] , preds_valid_ols['pred'])**0.5 , 3 )}\n",
    "OLS R2:  {round(r2_score(data_valid['count_orders'] , preds_valid_ols['pred']),3)}\\n\"\"\"\n",
    "     )"
   ]
  },
  {
   "cell_type": "code",
   "execution_count": null,
   "metadata": {},
   "outputs": [],
   "source": []
  },
  {
   "cell_type": "markdown",
   "metadata": {},
   "source": [
    "---\n",
    "### Primeiro modelo com RNA MLP <a name=\"ajuste-mlp\"></a>"
   ]
  },
  {
   "cell_type": "markdown",
   "metadata": {},
   "source": [
    "#### Organizando dataframe de treino: comum e aumentado"
   ]
  },
  {
   "cell_type": "code",
   "execution_count": 31,
   "metadata": {},
   "outputs": [],
   "source": [
    "#Criando dataframe aumentado para treino\n",
    "df_treino_mpl = data_model[['data','NOME_DIST','count_orders']+variable_names]\n",
    "dfs_treino = {}\n",
    "\n",
    "for i in wq.neighbors.keys():\n",
    "    distrito_atual = distritos_ce[distritos_ce.index == i]['NOME_DIST'].values[0]\n",
    "\n",
    "    df_aumentado_temp = df_treino_mpl[df_treino_mpl['NOME_DIST'] == distrito_atual].reset_index( drop = True )\n",
    "\n",
    "    lista_vizinhos = wq.neighbors[i]\n",
    "    for j in lista_vizinhos:\n",
    "        df_aumentado_temp[ 'feature_n'+str(j) ] = df_treino_mpl[df_treino_mpl['NOME_DIST'] == distritos_ce[distritos_ce.index == j]['NOME_DIST'].values[0]]['count_orders_7d'].reset_index(drop=True)\n",
    "        dfs_treino[i] = df_aumentado_temp"
   ]
  },
  {
   "cell_type": "code",
   "execution_count": 35,
   "metadata": {},
   "outputs": [],
   "source": [
    "#Criando dataframe aumentado para teste\n",
    "df_teste_mlp = data_test[['data','NOME_DIST','count_orders']+variable_names]\n",
    "dfs_teste = {}\n",
    "\n",
    "for i in wq.neighbors.keys():\n",
    "    distrito_atual = distritos_ce[distritos_ce.index == i]['NOME_DIST'].values[0]\n",
    "\n",
    "    df_aumentado_teste = df_teste_mlp[df_teste_mlp['NOME_DIST'] == distrito_atual].reset_index( drop = True )\n",
    "\n",
    "    lista_vizinhos = wq.neighbors[i]\n",
    "    for j in lista_vizinhos:\n",
    "        df_aumentado_teste[ 'feature_n'+str(j) ] = df_teste_mlp[df_teste_mlp['NOME_DIST'] == distritos_ce[distritos_ce.index == j]['NOME_DIST'].values[0]]['count_orders_7d'].reset_index(drop=True)\n",
    "        dfs_teste[i] = df_aumentado_teste"
   ]
  },
  {
   "cell_type": "code",
   "execution_count": 44,
   "metadata": {},
   "outputs": [],
   "source": [
    "#Criando dataframe aumentado de validação\n",
    "df_valid_mlp = data_valid[['data','NOME_DIST','count_orders']+variable_names]\n",
    "dfs_valid= {}\n",
    "\n",
    "for i in wq.neighbors.keys():\n",
    "    distrito_atual = distritos_ce[distritos_ce.index == i]['NOME_DIST'].values[0]\n",
    "\n",
    "    df_aumentado_valid = df_valid_mlp[df_valid_mlp['NOME_DIST'] == distrito_atual].reset_index( drop = True )\n",
    "\n",
    "    lista_vizinhos = wq.neighbors[i]\n",
    "    for j in lista_vizinhos:\n",
    "        df_aumentado_valid[ 'feature_n'+str(j) ] = df_teste_mlp[df_teste_mlp['NOME_DIST'] == distritos_ce[distritos_ce.index == j]['NOME_DIST'].values[0]]['count_orders_7d'].reset_index(drop=True)\n",
    "        dfs_valid[i] = df_aumentado_valid"
   ]
  },
  {
   "cell_type": "code",
   "execution_count": 200,
   "metadata": {},
   "outputs": [],
   "source": [
    "#GridSearch para tunning\n",
    "def GridSearch( df_treino , data_test , params ):\n",
    "    \n",
    "    resultados = {'params': [] ,\n",
    "                  'rmse_test': [] ,\n",
    "                  'r2_test' : [] ,\n",
    "                  'r2_train': [],\n",
    "                  'rmse_train': []}\n",
    "    \n",
    "    tot = len(ParameterGrid( params ))\n",
    "    \n",
    "    for i in ParameterGrid( params ):\n",
    "        MLP = MLPRegressor()\n",
    "        MLP.set_params( **i )\n",
    "        \n",
    "        x_train = df_treino.iloc[ :, 3: ]\n",
    "        y_train = df_treino.iloc[ : , 2]\n",
    "\n",
    "        MLP.fit(x_train , y_train)\n",
    "        \n",
    "        resultados['rmse_test'].append( mean_squared_error(data_test.iloc[:, 2] ,  MLP.predict( data_test.iloc[:, 3:] ) ) ** 0.5 )\n",
    "        resultados['r2_test'].append( r2_score(data_test.iloc[:, 2] ,  MLP.predict( data_test.iloc[:, 3:] ) )  )\n",
    "        resultados['rmse_train'].append( mean_squared_error(df_treino.iloc[:, 2] ,  MLP.predict( df_treino.iloc[:, 3:] ) ) ** 0.5 )\n",
    "        resultados['r2_train'].append( r2_score(df_treino.iloc[:, 2] ,  MLP.predict( df_treino.iloc[:, 3:] ) )  )\n",
    "        resultados['params'].append( i )\n",
    "        \n",
    "    df_resultados = pd.DataFrame(resultados)\n",
    "    df_resultados = df_resultados.sort_values(by = 'rmse_test')\n",
    "    \n",
    "    best_params = df_resultados.iloc[0,0]\n",
    "    rmse = df_resultados.iloc[0,1]\n",
    "    \n",
    "    return best_params , rmse , df_resultados"
   ]
  },
  {
   "cell_type": "code",
   "execution_count": 96,
   "metadata": {},
   "outputs": [],
   "source": []
  },
  {
   "cell_type": "code",
   "execution_count": 102,
   "metadata": {},
   "outputs": [],
   "source": [
    "#Ajustando os modelos MLP - Parametros fixos\n",
    "modelos_MLP = {}\n",
    "\n",
    "losses = []\n",
    "test_performance = []\n",
    "test_performance2 = []\n",
    "\n",
    "for i in range(0, len(dfs_treino) ):\n",
    "    \n",
    "    df_treino = dfs_treino[i]\n",
    "\n",
    "    MLP = MLPRegressor( hidden_layer_sizes=(6,6), activation='relu' , solver = 'lbfgs', max_fun=50, tol = 0.001,  random_state=42)\n",
    "    \n",
    "\n",
    "    x_train = df_treino.iloc[ :, 3: ]\n",
    "    y_train = df_treino.iloc[ : , 2]\n",
    "\n",
    "    MLP.fit(x_train , y_train)\n",
    "    \n",
    "    losses.append(mean_squared_error(dfs_teste[i].iloc[:, 2] ,  MLP.predict( dfs_teste[i].iloc[:, 3:] ) ) ** 0.5)\n",
    "    test_performance.append( MLP.score(dfs_teste[i].iloc[:, 3:] , dfs_teste[i].iloc[:, 2]) )\n",
    "    \n",
    "    modelos_MLP[i] = MLP"
   ]
  },
  {
   "cell_type": "code",
   "execution_count": 299,
   "metadata": {},
   "outputs": [],
   "source": [
    "#Ajustando os modelos MLP - Parametros tunados (refinados)\n",
    "modelos_MLP_ref = {}\n",
    "\n",
    "#losses = []\n",
    "#test_performance = []\n",
    "#test_performance2 = []\n",
    "parametros_busca = { 'hidden_layer_sizes': [ (3) , (6) , (12) ,(3,3) , (6,6), (12,12) , (3,3,3) , (6,6,6), (12,12,12) ] ,\n",
    "                     'activation': ['relu','logistic','tanh','identity'] , \n",
    "                    'solver': ['lbfgs'] ,\n",
    "                    'alpha': [0.0001,0.001, 0.01, 0.05] ,\n",
    "                    'max_fun': [10,50,100,200],\n",
    "                    'random_state': [42]}\n",
    "\n",
    "for i in range(0, len(dfs_treino) ):\n",
    "    \n",
    "    df_treino = dfs_treino[i]\n",
    "    \n",
    "    melhores_parametros , _ , _ = GridSearch( df_treino , dfs_teste[i] , parametros_busca)\n",
    "    \n",
    "    MLP = MLPRegressor()\n",
    "    MLP.set_params( ** melhores_parametros )\n",
    "\n",
    "    x_train = df_treino.iloc[ :, 3: ]\n",
    "    y_train = df_treino.iloc[ : , 2]\n",
    "\n",
    "    MLP.fit(x_train , y_train)\n",
    "    \n",
    "    #losses.append(mean_squared_error(dfs_teste[i].iloc[:, 2] ,  MLP.predict( dfs_teste[i].iloc[:, 3:] ) ) ** 0.5)\n",
    "    #test_performance.append( MLP.score(dfs_teste[i].iloc[:, 3:] , dfs_teste[i].iloc[:, 2]) )\n",
    "    \n",
    "    modelos_MLP_ref[i] = MLP"
   ]
  },
  {
   "cell_type": "code",
   "execution_count": 92,
   "metadata": {},
   "outputs": [],
   "source": [
    "def predict_mlp( modelos_MLP ,  dfs_teste , data_test):\n",
    "    tam = len(modelos_MLP)\n",
    "    \n",
    "    df_pred = data_test.iloc[:,:3].reset_index(drop = True)\n",
    "    \n",
    "    for i in range(0 , tam):\n",
    "        df_pred.loc[df_pred['NOME_DIST'] == dfs_teste[i]['NOME_DIST'][0] , 'pred'] = modelos_MLP[i].predict( dfs_teste[i].iloc[:,3:] )\n",
    "        \n",
    "    df_pred['erro'] = df_pred['count_orders'] - df_pred['pred']\n",
    "    \n",
    "    return df_pred"
   ]
  },
  {
   "cell_type": "markdown",
   "metadata": {},
   "source": [
    "---\n",
    "#### Métricas de avaliação MLP <a name=\"metricas-mlp\"></a>"
   ]
  },
  {
   "cell_type": "code",
   "execution_count": 168,
   "metadata": {},
   "outputs": [
    {
     "name": "stdout",
     "output_type": "stream",
     "text": [
      "RMSE: 2.864\n",
      "R2: 0.737\n"
     ]
    }
   ],
   "source": [
    "#Resultados MLP parametros fixos - base teste\n",
    "preds_teste_mlp = predict_mlp( modelos_MLP ,  dfs_teste , data_test)\n",
    "print( f\"RMSE: {round( mean_squared_error( preds_teste_mlp['count_orders'] , preds_teste_mlp['pred'].round(0)  ) ** 0.5 ,3)}\" )\n",
    "print( f\"R2: {round( r2_score( preds_teste_mlp['count_orders'] , preds_teste_mlp['pred'].round(0)  )  , 3 ) }\" )"
   ]
  },
  {
   "cell_type": "code",
   "execution_count": 173,
   "metadata": {},
   "outputs": [
    {
     "name": "stdout",
     "output_type": "stream",
     "text": [
      "RMSE: 2.272\n",
      "R2: 0.834\n"
     ]
    }
   ],
   "source": [
    "#Resultados MLP tunado - base teste\n",
    "preds_teste_mlp_ref = predict_mlp( modelos_MLP_ref ,  dfs_teste , data_test)\n",
    "print( f\"RMSE: {round( mean_squared_error( preds_teste_mlp_ref['count_orders'] , preds_teste_mlp_ref['pred'].round(0)  ) ** 0.5 ,3)}\" )\n",
    "print( f\"R2: {round( r2_score( preds_teste_mlp_ref['count_orders'] , preds_teste_mlp_ref['pred'].round(0)  ) , 3)}\" )"
   ]
  },
  {
   "cell_type": "code",
   "execution_count": 172,
   "metadata": {},
   "outputs": [
    {
     "name": "stdout",
     "output_type": "stream",
     "text": [
      "RMSE: 3.51\n",
      "R2: 0.705\n"
     ]
    }
   ],
   "source": [
    "#Resultados MLP parametros fixos - base validacao\n",
    "preds_valid_mlp = predict_mlp( modelos_MLP ,  dfs_valid , data_valid)\n",
    "print( f\"RMSE: {round( mean_squared_error( preds_valid_mlp['count_orders'] , preds_valid_mlp['pred'].round(0)  ) ** 0.5 ,3)}\" )\n",
    "print( f\"R2: {round( r2_score( preds_valid_mlp['count_orders'] , preds_valid_mlp['pred'].round(0)  )  , 3 ) }\" )"
   ]
  },
  {
   "cell_type": "code",
   "execution_count": 208,
   "metadata": {},
   "outputs": [
    {
     "name": "stdout",
     "output_type": "stream",
     "text": [
      "RMSE: 3.353\n",
      "R2: 0.731\n"
     ]
    }
   ],
   "source": [
    "#Resultados MLP tunado - base validacao\n",
    "preds_valid_mlp_ref = predict_mlp( modelos_MLP_ref ,  dfs_valid , data_valid)\n",
    "print( f\"RMSE: {round( mean_squared_error( preds_valid_mlp_ref['count_orders'] , preds_valid_mlp_ref['pred'].round(0)  ) ** 0.5 ,3)}\" )\n",
    "print( f\"R2: {round( r2_score( preds_valid_mlp_ref['count_orders'] , preds_valid_mlp_ref['pred'].round(0)  ) , 3)}\" )"
   ]
  },
  {
   "cell_type": "markdown",
   "metadata": {},
   "source": [
    "---\n",
    "#### Calculando RMSE por distritos para cada um dos ajuste "
   ]
  },
  {
   "cell_type": "code",
   "execution_count": 242,
   "metadata": {},
   "outputs": [
    {
     "name": "stdout",
     "output_type": "stream",
     "text": [
      "            NOME_DIST      rmse\n",
      "0   ALTO DE PINHEIROS  2.466091\n",
      "1         BARRA FUNDA  0.989911\n",
      "2          BELA VISTA  3.312568\n",
      "3               BELEM  0.977951\n",
      "4          BOM RETIRO  0.957249\n",
      "5                BRAS  1.134364\n",
      "6             CAMBUCI  0.741105\n",
      "7          CONSOLACAO  5.117722\n",
      "8            IPIRANGA  2.286416\n",
      "9          ITAIM BIBI  5.222867\n",
      "10        JD PAULISTA  4.536328\n",
      "11               LAPA  1.791917\n",
      "12          LIBERDADE  3.489318\n",
      "13              MOEMA  4.307500\n",
      "14              MOOCA  2.762424\n",
      "15               PARI  0.799505\n",
      "16           PERDIZES  2.716124\n",
      "17          PINHEIROS  3.975768\n",
      "18          REPUBLICA  4.200319\n",
      "19      SANTA CECILIA  3.729418\n",
      "20              SAUDE  8.526737\n",
      "21                 SE  0.892585\n",
      "22    VILA LEOPOLDINA  1.628101\n",
      "23       VILA MARIANA  3.982135\n"
     ]
    }
   ],
   "source": [
    "mapa_rmse_mlp = pd.DataFrame( preds_teste_mlp['NOME_DIST'].drop_duplicates().reset_index(drop=True) )\n",
    "mapa_rmse_mlp['rmse'] =mapa_rmse_mlp['NOME_DIST'].apply(lambda x: mean_squared_error( preds_valid_mlp[preds_valid_mlp['NOME_DIST'] == x ]['count_orders'] , preds_valid_mlp[preds_valid_mlp['NOME_DIST'] == x ]['pred'])**0.5 )\n",
    "print(mapa_rmse_mlp)"
   ]
  },
  {
   "cell_type": "code",
   "execution_count": 257,
   "metadata": {},
   "outputs": [
    {
     "name": "stdout",
     "output_type": "stream",
     "text": [
      "            NOME_DIST      rmse\n",
      "0   ALTO DE PINHEIROS  2.892815\n",
      "1         BARRA FUNDA  1.625142\n",
      "2          BELA VISTA  1.926883\n",
      "3               BELEM  0.871010\n",
      "4          BOM RETIRO  0.930188\n",
      "5                BRAS  1.691790\n",
      "6             CAMBUCI  1.144318\n",
      "7          CONSOLACAO  6.677963\n",
      "8            IPIRANGA  3.019997\n",
      "9          ITAIM BIBI  4.976070\n",
      "10        JD PAULISTA  4.787365\n",
      "11               LAPA  1.872332\n",
      "12          LIBERDADE  1.935917\n",
      "13              MOEMA  4.205186\n",
      "14              MOOCA  2.829291\n",
      "15               PARI  0.767420\n",
      "16           PERDIZES  2.856345\n",
      "17          PINHEIROS  4.002512\n",
      "18          REPUBLICA  4.067779\n",
      "19      SANTA CECILIA  3.872613\n",
      "20              SAUDE  6.728485\n",
      "21                 SE  1.750382\n",
      "22    VILA LEOPOLDINA  1.638887\n",
      "23       VILA MARIANA  3.095107\n"
     ]
    }
   ],
   "source": [
    "mapa_rmse_mlp_ref = pd.DataFrame( preds_valid_mlp['NOME_DIST'].drop_duplicates().reset_index(drop=True) )\n",
    "mapa_rmse_mlp_ref['rmse'] =mapa_rmse_mlp['NOME_DIST'].apply(lambda x: mean_squared_error( preds_valid_mlp_ref[preds_valid_mlp_ref['NOME_DIST'] == x ]['count_orders'] , preds_valid_mlp_ref[preds_valid_mlp_ref['NOME_DIST'] == x ]['pred'])**0.5 )\n",
    "print(mapa_rmse_mlp_ref)"
   ]
  },
  {
   "cell_type": "code",
   "execution_count": 276,
   "metadata": {},
   "outputs": [
    {
     "name": "stdout",
     "output_type": "stream",
     "text": [
      "            NOME_DIST      rmse\n",
      "0   ALTO DE PINHEIROS  2.889082\n",
      "1         BARRA FUNDA  1.508788\n",
      "2          BELA VISTA  3.137711\n",
      "3               BELEM  1.739328\n",
      "4          BOM RETIRO  1.321169\n",
      "5                BRAS  1.532619\n",
      "6             CAMBUCI  2.263398\n",
      "7          CONSOLACAO  7.260446\n",
      "8            IPIRANGA  2.476754\n",
      "9          ITAIM BIBI  3.983232\n",
      "10        JD PAULISTA  4.959134\n",
      "11               LAPA  1.573681\n",
      "12          LIBERDADE  3.926060\n",
      "13              MOEMA  4.118086\n",
      "14              MOOCA  3.605200\n",
      "15               PARI  1.261660\n",
      "16           PERDIZES  2.344318\n",
      "17          PINHEIROS  4.211854\n",
      "18          REPUBLICA  3.265547\n",
      "19      SANTA CECILIA  3.779001\n",
      "20              SAUDE  6.160568\n",
      "21                 SE  2.126870\n",
      "22    VILA LEOPOLDINA  2.443624\n",
      "23       VILA MARIANA  5.806676\n"
     ]
    }
   ],
   "source": [
    "mapa_rmse_sar = pd.DataFrame( preds_valid_sar['NOME_DIST'].drop_duplicates().reset_index(drop=True) )\n",
    "mapa_rmse_sar['rmse'] =mapa_rmse_mlp['NOME_DIST'].apply(lambda x: mean_squared_error( preds_valid_sar[preds_valid_sar['NOME_DIST'] == x ]['count_orders'] , preds_valid_sar[preds_valid_sar['NOME_DIST'] == x ]['pred'])**0.5 )\n",
    "print(mapa_rmse_sar)"
   ]
  },
  {
   "cell_type": "code",
   "execution_count": 296,
   "metadata": {},
   "outputs": [],
   "source": [
    "mapa_rmse_mlp2 = distritos_ce.merge( mapa_rmse_mlp , how = 'left' , on = 'NOME_DIST')"
   ]
  },
  {
   "cell_type": "code",
   "execution_count": 244,
   "metadata": {},
   "outputs": [],
   "source": [
    "mapa_rmse_mlp_ref2 = distritos_ce.merge( mapa_rmse_mlp_ref , how = 'left' , on = 'NOME_DIST')"
   ]
  },
  {
   "cell_type": "code",
   "execution_count": 277,
   "metadata": {},
   "outputs": [],
   "source": [
    "mapa_rmse_sar2 = distritos_ce.merge(mapa_rmse_sar , how = 'left' , on = 'NOME_DIST')"
   ]
  },
  {
   "cell_type": "code",
   "execution_count": 307,
   "metadata": {},
   "outputs": [
    {
     "data": {
      "image/png": "[encoded data removed]",
      "text/plain": [
       "<Figure size 648x432 with 7 Axes>"
      ]
     },
     "metadata": {},
     "output_type": "display_data"
    }
   ],
   "source": [
    "fig,ax = plt.subplots(2, 2, figsize=(9,6))\n",
    "mapa_rmse_mlp2.plot('rmse' , legend=True , cmap='OrRd',ax=ax[0][0], edgecolor='black')\n",
    "mapa_rmse_mlp_ref2.plot('rmse' , legend=True , cmap='OrRd',ax=ax[0][1], edgecolor='black')\n",
    "mapa_rmse_sar2.plot('rmse' , legend=True , cmap='OrRd',ax=ax[1][0], edgecolor='black')\n",
    "\n",
    "ax[0][0].set_title('RMSE - MLP-PF', fontsize=14)\n",
    "ax[0][1].set_title('RMSE - MLP-R', fontsize=14)\n",
    "ax[1][0].set_title('RMSE - SAR', fontsize=14)\n",
    "#ax[0].axis('off')\n",
    "ax[1][1].axis('off')\n",
    "fig.suptitle(\"RMSE por distrito para cada modelo\", fontsize=16)\n",
    "plt.savefig('figura_rmse_por_distrito.png' , bbox_inches='tight')\n",
    "\n",
    "fig.tight_layout()"
   ]
  },
  {
   "cell_type": "code",
   "execution_count": null,
   "metadata": {},
   "outputs": [],
   "source": []
  },
  {
   "cell_type": "markdown",
   "metadata": {},
   "source": [
    "---\n",
    "### Previsão para o dia 15-10-2019 <a name=\"prev-15-10-2019\"></a> "
   ]
  },
  {
   "cell_type": "code",
   "execution_count": 358,
   "metadata": {},
   "outputs": [],
   "source": [
    "data_pred = data_valid[data_valid['data'] == '2019-10-08'].iloc[:,:3].reset_index(drop=True)\n",
    "data_pred['count_orders_7d'] = data_pred['count_orders'] \n",
    "data_pred['data'] = data_pred['data'] + pd.Timedelta(7,'days')"
   ]
  },
  {
   "cell_type": "code",
   "execution_count": 359,
   "metadata": {},
   "outputs": [],
   "source": [
    "#Criando dataframe aumentado para predição do dia 15-10-2019\n",
    "df_pred_mlp = data_pred[['data','NOME_DIST','count_orders']+variable_names]\n",
    "dfs_pred= {}\n",
    "\n",
    "for i in wq.neighbors.keys():\n",
    "    distrito_atual = distritos_ce[distritos_ce.index == i]['NOME_DIST'].values[0]\n",
    "\n",
    "    df_aumentado_pred = df_pred_mlp[df_pred_mlp['NOME_DIST'] == distrito_atual].reset_index( drop = True )\n",
    "\n",
    "    lista_vizinhos = wq.neighbors[i]\n",
    "    for j in lista_vizinhos:\n",
    "        df_aumentado_pred[ 'feature_n'+str(j) ] = df_pred_mlp[df_pred_mlp['NOME_DIST'] == distritos_ce[distritos_ce.index == j]['NOME_DIST'].values[0]]['count_orders_7d'].reset_index(drop=True)\n",
    "        dfs_pred[i] = df_aumentado_pred"
   ]
  },
  {
   "cell_type": "code",
   "execution_count": 360,
   "metadata": {},
   "outputs": [],
   "source": [
    "data_pred['pred_MLP'] = round( predict_mlp(modelos_MLP , dfs_pred , df_pred_mlp )['pred'] , 0)\n",
    "data_pred['pred_MLP_REF'] = round( predict_mlp(modelos_MLP_ref , dfs_pred , df_pred_mlp )['pred'] , 0)\n",
    "data_pred['pred_SAR'] = round( predict_sar( reg2 , df_pred_mlp , variable_names , wq )['pred'] , 0 )"
   ]
  },
  {
   "cell_type": "code",
   "execution_count": 362,
   "metadata": {},
   "outputs": [
    {
     "data": {
      "text/html": [
       "<div>\n",
       "<style scoped>\n",
       "    .dataframe tbody tr th:only-of-type {\n",
       "        vertical-align: middle;\n",
       "    }\n",
       "\n",
       "    .dataframe tbody tr th {\n",
       "        vertical-align: top;\n",
       "    }\n",
       "\n",
       "    .dataframe thead th {\n",
       "        text-align: right;\n",
       "    }\n",
       "</style>\n",
       "<table border=\"1\" class=\"dataframe\">\n",
       "  <thead>\n",
       "    <tr style=\"text-align: right;\">\n",
       "      <th></th>\n",
       "      <th>data</th>\n",
       "      <th>NOME_DIST</th>\n",
       "      <th>count_orders</th>\n",
       "      <th>count_orders_7d</th>\n",
       "      <th>pred_MLP</th>\n",
       "      <th>pred_MLP_REF</th>\n",
       "      <th>pred_SAR</th>\n",
       "    </tr>\n",
       "  </thead>\n",
       "  <tbody>\n",
       "    <tr>\n",
       "      <th>0</th>\n",
       "      <td>2019-10-15</td>\n",
       "      <td>ALTO DE PINHEIROS</td>\n",
       "      <td>3.0</td>\n",
       "      <td>3.0</td>\n",
       "      <td>4.0</td>\n",
       "      <td>5.0</td>\n",
       "      <td>4.0</td>\n",
       "    </tr>\n",
       "    <tr>\n",
       "      <th>1</th>\n",
       "      <td>2019-10-15</td>\n",
       "      <td>BARRA FUNDA</td>\n",
       "      <td>2.0</td>\n",
       "      <td>2.0</td>\n",
       "      <td>3.0</td>\n",
       "      <td>4.0</td>\n",
       "      <td>3.0</td>\n",
       "    </tr>\n",
       "    <tr>\n",
       "      <th>2</th>\n",
       "      <td>2019-10-15</td>\n",
       "      <td>BELA VISTA</td>\n",
       "      <td>8.0</td>\n",
       "      <td>8.0</td>\n",
       "      <td>4.0</td>\n",
       "      <td>5.0</td>\n",
       "      <td>8.0</td>\n",
       "    </tr>\n",
       "    <tr>\n",
       "      <th>3</th>\n",
       "      <td>2019-10-15</td>\n",
       "      <td>BELEM</td>\n",
       "      <td>1.0</td>\n",
       "      <td>1.0</td>\n",
       "      <td>1.0</td>\n",
       "      <td>2.0</td>\n",
       "      <td>2.0</td>\n",
       "    </tr>\n",
       "    <tr>\n",
       "      <th>4</th>\n",
       "      <td>2019-10-15</td>\n",
       "      <td>BOM RETIRO</td>\n",
       "      <td>2.0</td>\n",
       "      <td>2.0</td>\n",
       "      <td>1.0</td>\n",
       "      <td>2.0</td>\n",
       "      <td>3.0</td>\n",
       "    </tr>\n",
       "    <tr>\n",
       "      <th>5</th>\n",
       "      <td>2019-10-15</td>\n",
       "      <td>BRAS</td>\n",
       "      <td>3.0</td>\n",
       "      <td>3.0</td>\n",
       "      <td>2.0</td>\n",
       "      <td>3.0</td>\n",
       "      <td>3.0</td>\n",
       "    </tr>\n",
       "    <tr>\n",
       "      <th>6</th>\n",
       "      <td>2019-10-15</td>\n",
       "      <td>CAMBUCI</td>\n",
       "      <td>1.0</td>\n",
       "      <td>1.0</td>\n",
       "      <td>2.0</td>\n",
       "      <td>1.0</td>\n",
       "      <td>2.0</td>\n",
       "    </tr>\n",
       "    <tr>\n",
       "      <th>7</th>\n",
       "      <td>2019-10-15</td>\n",
       "      <td>CONSOLACAO</td>\n",
       "      <td>11.0</td>\n",
       "      <td>11.0</td>\n",
       "      <td>10.0</td>\n",
       "      <td>13.0</td>\n",
       "      <td>10.0</td>\n",
       "    </tr>\n",
       "    <tr>\n",
       "      <th>8</th>\n",
       "      <td>2019-10-15</td>\n",
       "      <td>IPIRANGA</td>\n",
       "      <td>2.0</td>\n",
       "      <td>2.0</td>\n",
       "      <td>4.0</td>\n",
       "      <td>4.0</td>\n",
       "      <td>3.0</td>\n",
       "    </tr>\n",
       "    <tr>\n",
       "      <th>9</th>\n",
       "      <td>2019-10-15</td>\n",
       "      <td>ITAIM BIBI</td>\n",
       "      <td>12.0</td>\n",
       "      <td>12.0</td>\n",
       "      <td>18.0</td>\n",
       "      <td>16.0</td>\n",
       "      <td>12.0</td>\n",
       "    </tr>\n",
       "    <tr>\n",
       "      <th>10</th>\n",
       "      <td>2019-10-15</td>\n",
       "      <td>JD PAULISTA</td>\n",
       "      <td>9.0</td>\n",
       "      <td>9.0</td>\n",
       "      <td>11.0</td>\n",
       "      <td>11.0</td>\n",
       "      <td>9.0</td>\n",
       "    </tr>\n",
       "    <tr>\n",
       "      <th>11</th>\n",
       "      <td>2019-10-15</td>\n",
       "      <td>LAPA</td>\n",
       "      <td>4.0</td>\n",
       "      <td>4.0</td>\n",
       "      <td>4.0</td>\n",
       "      <td>4.0</td>\n",
       "      <td>5.0</td>\n",
       "    </tr>\n",
       "    <tr>\n",
       "      <th>12</th>\n",
       "      <td>2019-10-15</td>\n",
       "      <td>LIBERDADE</td>\n",
       "      <td>4.0</td>\n",
       "      <td>4.0</td>\n",
       "      <td>6.0</td>\n",
       "      <td>7.0</td>\n",
       "      <td>5.0</td>\n",
       "    </tr>\n",
       "    <tr>\n",
       "      <th>13</th>\n",
       "      <td>2019-10-15</td>\n",
       "      <td>MOEMA</td>\n",
       "      <td>14.0</td>\n",
       "      <td>14.0</td>\n",
       "      <td>12.0</td>\n",
       "      <td>13.0</td>\n",
       "      <td>13.0</td>\n",
       "    </tr>\n",
       "    <tr>\n",
       "      <th>14</th>\n",
       "      <td>2019-10-15</td>\n",
       "      <td>MOOCA</td>\n",
       "      <td>3.0</td>\n",
       "      <td>3.0</td>\n",
       "      <td>6.0</td>\n",
       "      <td>7.0</td>\n",
       "      <td>3.0</td>\n",
       "    </tr>\n",
       "    <tr>\n",
       "      <th>15</th>\n",
       "      <td>2019-10-15</td>\n",
       "      <td>PARI</td>\n",
       "      <td>1.0</td>\n",
       "      <td>1.0</td>\n",
       "      <td>1.0</td>\n",
       "      <td>1.0</td>\n",
       "      <td>2.0</td>\n",
       "    </tr>\n",
       "    <tr>\n",
       "      <th>16</th>\n",
       "      <td>2019-10-15</td>\n",
       "      <td>PERDIZES</td>\n",
       "      <td>10.0</td>\n",
       "      <td>10.0</td>\n",
       "      <td>10.0</td>\n",
       "      <td>8.0</td>\n",
       "      <td>9.0</td>\n",
       "    </tr>\n",
       "    <tr>\n",
       "      <th>17</th>\n",
       "      <td>2019-10-15</td>\n",
       "      <td>PINHEIROS</td>\n",
       "      <td>18.0</td>\n",
       "      <td>18.0</td>\n",
       "      <td>13.0</td>\n",
       "      <td>12.0</td>\n",
       "      <td>15.0</td>\n",
       "    </tr>\n",
       "    <tr>\n",
       "      <th>18</th>\n",
       "      <td>2019-10-15</td>\n",
       "      <td>REPUBLICA</td>\n",
       "      <td>2.0</td>\n",
       "      <td>2.0</td>\n",
       "      <td>5.0</td>\n",
       "      <td>3.0</td>\n",
       "      <td>3.0</td>\n",
       "    </tr>\n",
       "    <tr>\n",
       "      <th>19</th>\n",
       "      <td>2019-10-15</td>\n",
       "      <td>SANTA CECILIA</td>\n",
       "      <td>9.0</td>\n",
       "      <td>9.0</td>\n",
       "      <td>8.0</td>\n",
       "      <td>8.0</td>\n",
       "      <td>8.0</td>\n",
       "    </tr>\n",
       "    <tr>\n",
       "      <th>20</th>\n",
       "      <td>2019-10-15</td>\n",
       "      <td>SAUDE</td>\n",
       "      <td>15.0</td>\n",
       "      <td>15.0</td>\n",
       "      <td>10.0</td>\n",
       "      <td>14.0</td>\n",
       "      <td>14.0</td>\n",
       "    </tr>\n",
       "    <tr>\n",
       "      <th>21</th>\n",
       "      <td>2019-10-15</td>\n",
       "      <td>SE</td>\n",
       "      <td>1.0</td>\n",
       "      <td>1.0</td>\n",
       "      <td>2.0</td>\n",
       "      <td>1.0</td>\n",
       "      <td>2.0</td>\n",
       "    </tr>\n",
       "    <tr>\n",
       "      <th>22</th>\n",
       "      <td>2019-10-15</td>\n",
       "      <td>VILA LEOPOLDINA</td>\n",
       "      <td>1.0</td>\n",
       "      <td>1.0</td>\n",
       "      <td>3.0</td>\n",
       "      <td>2.0</td>\n",
       "      <td>2.0</td>\n",
       "    </tr>\n",
       "    <tr>\n",
       "      <th>23</th>\n",
       "      <td>2019-10-15</td>\n",
       "      <td>VILA MARIANA</td>\n",
       "      <td>15.0</td>\n",
       "      <td>15.0</td>\n",
       "      <td>16.0</td>\n",
       "      <td>18.0</td>\n",
       "      <td>13.0</td>\n",
       "    </tr>\n",
       "  </tbody>\n",
       "</table>\n",
       "</div>"
      ],
      "text/plain": [
       "         data          NOME_DIST  count_orders  count_orders_7d  pred_MLP  \\\n",
       "0  2019-10-15  ALTO DE PINHEIROS           3.0              3.0       4.0   \n",
       "1  2019-10-15        BARRA FUNDA           2.0              2.0       3.0   \n",
       "2  2019-10-15         BELA VISTA           8.0              8.0       4.0   \n",
       "3  2019-10-15              BELEM           1.0              1.0       1.0   \n",
       "4  2019-10-15         BOM RETIRO           2.0              2.0       1.0   \n",
       "5  2019-10-15               BRAS           3.0              3.0       2.0   \n",
       "6  2019-10-15            CAMBUCI           1.0              1.0       2.0   \n",
       "7  2019-10-15         CONSOLACAO          11.0             11.0      10.0   \n",
       "8  2019-10-15           IPIRANGA           2.0              2.0       4.0   \n",
       "9  2019-10-15         ITAIM BIBI          12.0             12.0      18.0   \n",
       "10 2019-10-15        JD PAULISTA           9.0              9.0      11.0   \n",
       "11 2019-10-15               LAPA           4.0              4.0       4.0   \n",
       "12 2019-10-15          LIBERDADE           4.0              4.0       6.0   \n",
       "13 2019-10-15              MOEMA          14.0             14.0      12.0   \n",
       "14 2019-10-15              MOOCA           3.0              3.0       6.0   \n",
       "15 2019-10-15               PARI           1.0              1.0       1.0   \n",
       "16 2019-10-15           PERDIZES          10.0             10.0      10.0   \n",
       "17 2019-10-15          PINHEIROS          18.0             18.0      13.0   \n",
       "18 2019-10-15          REPUBLICA           2.0              2.0       5.0   \n",
       "19 2019-10-15      SANTA CECILIA           9.0              9.0       8.0   \n",
       "20 2019-10-15              SAUDE          15.0             15.0      10.0   \n",
       "21 2019-10-15                 SE           1.0              1.0       2.0   \n",
       "22 2019-10-15    VILA LEOPOLDINA           1.0              1.0       3.0   \n",
       "23 2019-10-15       VILA MARIANA          15.0             15.0      16.0   \n",
       "\n",
       "    pred_MLP_REF  pred_SAR  \n",
       "0            5.0       4.0  \n",
       "1            4.0       3.0  \n",
       "2            5.0       8.0  \n",
       "3            2.0       2.0  \n",
       "4            2.0       3.0  \n",
       "5            3.0       3.0  \n",
       "6            1.0       2.0  \n",
       "7           13.0      10.0  \n",
       "8            4.0       3.0  \n",
       "9           16.0      12.0  \n",
       "10          11.0       9.0  \n",
       "11           4.0       5.0  \n",
       "12           7.0       5.0  \n",
       "13          13.0      13.0  \n",
       "14           7.0       3.0  \n",
       "15           1.0       2.0  \n",
       "16           8.0       9.0  \n",
       "17          12.0      15.0  \n",
       "18           3.0       3.0  \n",
       "19           8.0       8.0  \n",
       "20          14.0      14.0  \n",
       "21           1.0       2.0  \n",
       "22           2.0       2.0  \n",
       "23          18.0      13.0  "
      ]
     },
     "execution_count": 362,
     "metadata": {},
     "output_type": "execute_result"
    }
   ],
   "source": [
    "data_pred"
   ]
  },
  {
   "cell_type": "code",
   "execution_count": 376,
   "metadata": {},
   "outputs": [],
   "source": [
    "data_pred2 = data_pred.copy()\n",
    "data_pred2 = data_pred2.merge(pedidos_final_agg[['data' , 'NOME_DIST','count_orders']] , how='left' , on = ['data' , 'NOME_DIST'])\n",
    "data_pred2.loc[15,'count_orders_y']=1"
   ]
  },
  {
   "cell_type": "code",
   "execution_count": 383,
   "metadata": {},
   "outputs": [],
   "source": []
  },
  {
   "cell_type": "code",
   "execution_count": 393,
   "metadata": {},
   "outputs": [
    {
     "data": {
      "text/plain": [
       "2.6770630673681683"
      ]
     },
     "execution_count": 393,
     "metadata": {},
     "output_type": "execute_result"
    }
   ],
   "source": [
    "mean_squared_error( data_pred2['count_orders_y'] ,  data_pred2['pred_SAR'] )**0.5"
   ]
  },
  {
   "cell_type": "code",
   "execution_count": 392,
   "metadata": {},
   "outputs": [
    {
     "data": {
      "text/plain": [
       "1.9895560643855537"
      ]
     },
     "execution_count": 392,
     "metadata": {},
     "output_type": "execute_result"
    }
   ],
   "source": [
    "mean_squared_error( data_pred2['count_orders_y'] ,  data_pred2['pred_MLP'] )**0.5"
   ]
  },
  {
   "cell_type": "code",
   "execution_count": 391,
   "metadata": {},
   "outputs": [
    {
     "data": {
      "text/plain": [
       "1.9472202409246537"
      ]
     },
     "execution_count": 391,
     "metadata": {},
     "output_type": "execute_result"
    }
   ],
   "source": [
    "mean_squared_error( data_pred2['count_orders_y'] ,  data_pred2['pred_MLP_REF'] )**0.5"
   ]
  },
  {
   "cell_type": "code",
   "execution_count": null,
   "metadata": {},
   "outputs": [],
   "source": []
  }
 ],
 "metadata": {
  "kernelspec": {
   "display_name": "Python 3",
   "language": "python",
   "name": "python3"
  },
  "language_info": {
   "codemirror_mode": {
    "name": "ipython",
    "version": 3
   },
   "file_extension": ".py",
   "mimetype": "text/x-python",
   "name": "python",
   "nbconvert_exporter": "python",
   "pygments_lexer": "ipython3",
   "version": "3.7.1"
  }
 },
 "nbformat": 4,
 "nbformat_minor": 4
}
